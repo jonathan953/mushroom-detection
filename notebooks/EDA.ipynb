{
 "cells": [
  {
   "cell_type": "code",
   "execution_count": 1,
   "metadata": {},
   "outputs": [],
   "source": [
    "# Inicializção das bibliotecas\n",
    "%matplotlib inline\n",
    "\n",
    "import pandas as pd\n",
    "import matplotlib.pyplot as plt\n",
    "import seaborn as sns\n",
    "\n",
    "#Link Completo: https://archive.ics.uci.edu/dataset/73/mushroom\n",
    "\n",
    "# Caminho do arquivo\n",
    "url = \"https://archive.ics.uci.edu/ml/machine-learning-databases/mushroom/agaricus-lepiota.data\"\n",
    "\n",
    "# Lê e carrega o arquivo para a memória\n",
    "df = pd.read_csv(url)"
   ]
  },
  {
   "cell_type": "markdown",
   "metadata": {},
   "source": [
    "# **Nomes das colunas e seus atributos**\n",
    "```\n",
    "Attribute Information:\n",
    "\n",
    "1. Informações dos Atributos: (classes: comestível=e, venenoso=p)\n",
    "2. forma-do-chapéu: sino=b, cônico=c, convexo=x, plano=f,em forma de botão=k afundado=s\n",
    "3. superfície-do-chapéu: fibrosa=f, sulcos=g, escamosa=y, lisa=s\n",
    "4. cor-do-chapéu: marrom=n, creme=b, canela=c, cinza=g, verde=r, rosa=p, roxo=u, vermelho=e, branco=w, amarelo=y\n",
    "5. hematomas?: hematomas=t, não=f\n",
    "6. odor: amêndoa=a, anis=l, creosote=c, peixe=y, fétido=f, mofado=m, nenhum=n, pungente=p, picante=s\n",
    "7. anexo-das-lâminas: anexado=a, descendente=d, livre=f, entalhado=n\n",
    "8. espaçamento-das-lâminas: próximo=c, apertado=w, distante=d\n",
    "9. tamanho-das-lâminas: largo=b, estreito=n\n",
    "10. cor-das-lâminas: preto=k, marrom=n, creme=b, chocolate=h, cinza=g, verde=r, laranja=o, rosa=p, roxo=u, vermelho=e, branco=w, amarelo=y\n",
    "11. forma-do-caule: alargando=e, afunilando=t\n",
    "12. raiz-do-caule: bulbosa=b, clube=c, copo=u, igual=e, rizomorfos=z, enraizado=r, ausente=?\n",
    "13. superfície-do-caule-acima-do-anel: fibrosa=f, escamosa=y, sedosa=k, lisa=s\n",
    "14. superfície-do-caule-abaixo-do-anel: fibrosa=f, escamosa=y, sedosa=k, lisa=s\n",
    "15. cor-do-caule-acima-do-anel: marrom=n, creme=b, canela=c, cinza=g, laranja=o, rosa=p, vermelho=e, branco=w, amarelo=y\n",
    "16. cor-do-caule-abaixo-do-anel: marrom=n, creme=b, canela=c, cinza=g, laranja=o, rosa=p, vermelho=e, branco=w, amarelo=y\n",
    "17. tipo-de-velo: parcial=p, universal=u\n",
    "18. cor-do-velo: marrom=n, laranja=o, branco=w, amarelo=y\n",
    "19. número-do-anel: nenhum=n, um=o, dois=t\n",
    "20. tipo-do-anel: teia-de-aranha=c, efêmero=e, alargado=f, grande=l, nenhum=n, pendente=p, envolvente=s, zona=z\n",
    "21. cor-da-estampa-de-esporos: preto=k, marrom=n, creme=b, chocolate=h, verde=r, laranja=o, roxo=u, branco=w, amarelo=y\n",
    "22. população: abundante=a, agrupada=c, numerosa=n, espalhada=s, várias=v, solitária=y\n",
    "23. habitat: gramados=g, folhas=l, prados=m, trilhas=p, urbano=u, resíduos=w, florestas=d\n",
    "\n",
    "```\n"
   ]
  },
  {
   "cell_type": "markdown",
   "metadata": {},
   "source": []
  }
 ],
 "metadata": {
  "kernelspec": {
   "display_name": "base",
   "language": "python",
   "name": "python3"
  },
  "language_info": {
   "codemirror_mode": {
    "name": "ipython",
    "version": 3
   },
   "file_extension": ".py",
   "mimetype": "text/x-python",
   "name": "python",
   "nbconvert_exporter": "python",
   "pygments_lexer": "ipython3",
   "version": "3.9.13"
  }
 },
 "nbformat": 4,
 "nbformat_minor": 2
}
