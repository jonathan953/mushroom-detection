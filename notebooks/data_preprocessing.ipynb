{
 "cells": [
  {
   "cell_type": "code",
   "execution_count": 156,
   "metadata": {},
   "outputs": [],
   "source": [
    "# Importando bibliotecas padrão\n",
    "import joblib  # Para salvar e carregar modelos\n",
    "import pandas as pd  # Para manipulação de dados\n",
    "import numpy as np  # Para operações numéricas\n",
    "import matplotlib.pyplot as plt  # Para criação de gráficos\n",
    "import seaborn as sns  # Para visualização de dados\n",
    "import warnings  # Para controlar mensagens de aviso\n",
    "\n",
    "# Importando módulos de machine learning da biblioteca scikit-learn\n",
    "from sklearn.model_selection import train_test_split  # Para dividir o dataset em treino e teste\n",
    "from sklearn.model_selection import GridSearchCV  # Para realizar busca em grid para otimização de hiperparâmetros\n",
    "from sklearn.model_selection import cross_val_score  # Para avaliação cruzada\n",
    "from sklearn.model_selection import KFold  # Para criar dobras para validação cruzada\n",
    "from sklearn.metrics import accuracy_score  # Para calcular a acurácia dos modelos\n",
    "from sklearn.metrics import ConfusionMatrixDisplay  # Para exibir a matriz de confusão de forma gráfica\n",
    "from sklearn.metrics import confusion_matrix  # Para calcular a matriz de confusão\n",
    "from sklearn.tree import DecisionTreeClassifier  # Para classificação usando árvores de decisão\n",
    "from sklearn.ensemble import RandomForestClassifier  # Para classificação usando florestas aleatórias\n",
    "from sklearn.neighbors import KNeighborsClassifier  # Para classificação usando k-vizinhos mais próximos\n",
    "from sklearn.linear_model import LogisticRegression  # Para regressão logística\n",
    "from sklearn.svm import SVC  # Para máquinas de vetores de suporte\n",
    "from sklearn.neural_network import MLPClassifier  # Para classificação usando redes neurais multicamadas\n",
    "from sklearn.exceptions import ConvergenceWarning # Para controlar mensagens de aviso ConvergenceWarnings\n",
    "\n",
    "# Importando módulo de estatística\n",
    "from scipy.stats import shapiro  # Para teste de normalidade de Shapiro-Wilk"
   ]
  },
  {
   "cell_type": "code",
   "execution_count": 132,
   "metadata": {},
   "outputs": [],
   "source": [
    "# Caminho relativo a partir do diretório onde o script está localizado\n",
    "df = joblib.load('../data/processed/dados_processados.pkl')"
   ]
  },
  {
   "cell_type": "code",
   "execution_count": 133,
   "metadata": {},
   "outputs": [
    {
     "name": "stdout",
     "output_type": "stream",
     "text": [
      "Formato das tabelas de dados (8124, 8) e características dos cogumelos (8124,)\n"
     ]
    }
   ],
   "source": [
    "# Selecionando as features que mais correlacionam\n",
    "entradas = df[['forma-do-caule', 'raiz-do-caule', 'odor','habitat', 'cor-do-chapéu', 'forma-do-chapéu', 'número-do-anel','cor-do-velo']]\n",
    "categoria = df['classe']\n",
    "print(f\"Formato das tabelas de dados {entradas.shape} e características dos cogumelos {categoria.shape}\")"
   ]
  },
  {
   "cell_type": "code",
   "execution_count": 134,
   "metadata": {},
   "outputs": [
    {
     "name": "stdout",
     "output_type": "stream",
     "text": [
      "Formato das tabelas de dados de treino (6499, 8) e teste (1625, 8)\n"
     ]
    }
   ],
   "source": [
    "# Separamos 20% para o teste\n",
    "entradas_treino, entradas_teste, categoria_treino, categoria_teste = train_test_split(entradas, categoria, test_size=0.2)\n",
    "\n",
    "print(f\"Formato das tabelas de dados de treino {entradas_treino.shape} e teste {entradas_teste.shape}\")"
   ]
  },
  {
   "cell_type": "markdown",
   "metadata": {},
   "source": [
    "### Preparação dos dados"
   ]
  },
  {
   "cell_type": "code",
   "execution_count": 135,
   "metadata": {},
   "outputs": [
    {
     "data": {
      "text/plain": [
       "(8124, 8)"
      ]
     },
     "execution_count": 135,
     "metadata": {},
     "output_type": "execute_result"
    }
   ],
   "source": [
    "# Concatena os dados de 'entradas_treino' e 'entradas_teste' ao longo do eixo 0 (verticamente), formando um único array 'x_mushroom'\n",
    "x_mushroom = np.concatenate((entradas_treino, entradas_teste), axis=0)\n",
    "\n",
    "# Exibe as dimensões do array 'x_mushroom'\n",
    "x_mushroom.shape"
   ]
  },
  {
   "cell_type": "code",
   "execution_count": 136,
   "metadata": {},
   "outputs": [
    {
     "data": {
      "text/plain": [
       "array([[0, 1, 0, ..., 2, 1, 2],\n",
       "       [0, 0, 4, ..., 2, 1, 2],\n",
       "       [0, 0, 4, ..., 3, 1, 2],\n",
       "       ...,\n",
       "       [1, 0, 6, ..., 2, 1, 2],\n",
       "       [0, 1, 0, ..., 0, 1, 2],\n",
       "       [1, 3, 6, ..., 3, 1, 2]])"
      ]
     },
     "execution_count": 136,
     "metadata": {},
     "output_type": "execute_result"
    }
   ],
   "source": [
    "x_mushroom"
   ]
  },
  {
   "cell_type": "code",
   "execution_count": 137,
   "metadata": {},
   "outputs": [
    {
     "data": {
      "text/plain": [
       "(8124,)"
      ]
     },
     "execution_count": 137,
     "metadata": {},
     "output_type": "execute_result"
    }
   ],
   "source": [
    "# Concatena os dados de 'categoria_treino' e 'categoria_teste' ao longo do eixo 0 (verticamente), formando um único array 'y_mushroom'\n",
    "y_mushroom = np.concatenate((categoria_treino, categoria_teste), axis=0)\n",
    "\n",
    "# Exibe as dimensões do array 'y_mushroom'\n",
    "y_mushroom.shape"
   ]
  },
  {
   "cell_type": "code",
   "execution_count": 138,
   "metadata": {},
   "outputs": [
    {
     "data": {
      "text/plain": [
       "array([1, 2, 2, ..., 1, 1, 1])"
      ]
     },
     "execution_count": 138,
     "metadata": {},
     "output_type": "execute_result"
    }
   ],
   "source": [
    "y_mushroom"
   ]
  },
  {
   "cell_type": "markdown",
   "metadata": {},
   "source": [
    "### Árvore de Decisão"
   ]
  },
  {
   "cell_type": "code",
   "execution_count": 139,
   "metadata": {},
   "outputs": [],
   "source": [
    "parametros = {  # Dicionário contendo a grade de hiperparâmetros para busca\n",
    "    'criterion': ['gini', 'entropy'],  # Critério para medir a qualidade da divisão (Gini ou Entropy)\n",
    "    'splitter': ['best', 'random'],  # Estratégia para escolher a divisão em cada nó (Melhor ou Aleatória)\n",
    "    'min_samples_split': [2, 5, 10],  # Número mínimo de amostras necessárias para dividir um nó\n",
    "    'min_samples_leaf': [1, 5, 10]  # Número mínimo de amostras necessárias para estar em um nó folha\n",
    "}\n"
   ]
  },
  {
   "cell_type": "code",
   "execution_count": 140,
   "metadata": {},
   "outputs": [
    {
     "name": "stdout",
     "output_type": "stream",
     "text": [
      "{'criterion': 'gini', 'min_samples_leaf': 1, 'min_samples_split': 2, 'splitter': 'best'}\n",
      "1.0\n"
     ]
    }
   ],
   "source": [
    "warnings.filterwarnings('ignore', category=RuntimeWarning)\n",
    "\n",
    "grid_search = GridSearchCV(estimator=DecisionTreeClassifier(), param_grid=parametros)  # Cria o GridSearchCV com DecisionTreeClassifier como estimador e o dicionário 'parametros' como grade de hiperparâmetros\n",
    "grid_search.fit(x_mushroom, y_mushroom)  # Ajusta o grid_search aos dados de treinamento, buscando a melhor combinação de hiperparâmetros\n",
    "melhores_parametros = grid_search.best_params_  # Obtém os melhores hiperparâmetros encontrados pelo GridSearchCV\n",
    "melhor_resultado = grid_search.best_score_  # Obtém a melhor pontuação de desempenho alcançada durante a busca\n",
    "print(melhores_parametros)  # Imprime os melhores hiperparâmetros\n",
    "print(melhor_resultado)  # Imprime a melhor pontuação de desempenho (acurácia)"
   ]
  },
  {
   "cell_type": "code",
   "execution_count": null,
   "metadata": {},
   "outputs": [],
   "source": [
    "warnings.filterwarnings(\"ignore\", category=FutureWarning)\n",
    "\n",
    "# Definir o intervalo de valores para k\n",
    "k_range = list(range(1, 26))\n",
    "acertos = []\n",
    "\n",
    "# Loop para testar diferentes valores de k\n",
    "for k in k_range:\n",
    "    modelo = KNeighborsClassifier(n_neighbors=k)\n",
    "    modelo.fit(entradas_treino, categoria_treino)\n",
    "    categoria_encontradas = modelo.predict(entradas_teste)\n",
    "    acertos.append(accuracy_score(categoria_teste, categoria_encontradas))\n",
    "\n",
    "# Plotar a taxa de acertos em função do valor de k\n",
    "plt.plot(k_range, acertos, marker='o')\n",
    "plt.xlabel('Valor de k do KNN')\n",
    "plt.ylabel('Taxa de acertos')\n",
    "plt.title('Taxa de acertos x valor de k do KNN')\n",
    "plt.show()\n"
   ]
  },
  {
   "cell_type": "markdown",
   "metadata": {},
   "source": [
    "### Random Forest"
   ]
  },
  {
   "cell_type": "code",
   "execution_count": 26,
   "metadata": {},
   "outputs": [],
   "source": [
    "parametros = {  # Define um dicionário chamado 'parametros' para armazenar as combinações de hiperparâmetros a serem testadas\n",
    "    'criterion': ['gini', 'entropy'],  # Define a métrica para medir a qualidade das divisões (gini ou entropy)\n",
    "    'n_estimators': [10, 40, 100, 150],  # Número de árvores na floresta do RandomForestClassifier\n",
    "    'min_samples_split': [2, 5, 10],  # Número mínimo de amostras necessárias para dividir um nó interno\n",
    "    'min_samples_leaf': [1, 5, 10]  # Número mínimo de amostras que um nó folha deve ter\n",
    "}\n"
   ]
  },
  {
   "cell_type": "code",
   "execution_count": 27,
   "metadata": {},
   "outputs": [
    {
     "name": "stdout",
     "output_type": "stream",
     "text": [
      "{'criterion': 'gini', 'min_samples_leaf': 1, 'min_samples_split': 2, 'n_estimators': 10}\n",
      "1.0\n"
     ]
    }
   ],
   "source": [
    "warnings.filterwarnings(\"ignore\", category=RuntimeWarning)\n",
    "\n",
    "grid_search = GridSearchCV(estimator=RandomForestClassifier(), param_grid=parametros)  # Cria o GridSearchCV com RandomForestClassifier como estimador e o dicionário 'parametros' como grade de hiperparâmetros\n",
    "grid_search.fit(x_mushroom, y_mushroom)  # Ajusta o grid_search aos dados de treinamento, buscando a melhor combinação de hiperparâmetros\n",
    "melhores_parametros = grid_search.best_params_  # Obtém os melhores hiperparâmetros encontrados pelo GridSearchCV\n",
    "melhor_resultado = grid_search.best_score_  # Obtém a melhor pontuação de desempenho alcançada durante a busca\n",
    "print(melhores_parametros)  # Imprime os melhores hiperparâmetros\n",
    "print(melhor_resultado)  # Imprime a melhor pontuação de desempenho (acurácia)\n"
   ]
  },
  {
   "cell_type": "code",
   "execution_count": 29,
   "metadata": {},
   "outputs": [
    {
     "data": {
      "image/png": "[encoded data removed]",
      "text/plain": [
       "<Figure size 1000x600 with 2 Axes>"
      ]
     },
     "metadata": {},
     "output_type": "display_data"
    }
   ],
   "source": [
    "# Resultados do GridSearchCV\n",
    "resultados_RF = grid_search.cv_results_\n",
    "\n",
    "# Reshape considerando os 4 parâmetros ('criterion', 'n_estimators', 'min_samples_split', 'min_samples_leaf')\n",
    "# Vamos simplificar para apenas 2 parâmetros para visualização em 2D: 'criterion' e 'n_estimators'\n",
    "# Para isso, usaremos valores fixos para 'min_samples_split' e 'min_samples_leaf' para criar o gráfico\n",
    "min_samples_split_fixed = 2  # Escolha um valor fixo para simplificação\n",
    "min_samples_leaf_fixed = 1    # Escolha um valor fixo para simplificação\n",
    "\n",
    "# Filtrar os resultados para os valores fixos de 'min_samples_split' e 'min_samples_leaf'\n",
    "mask = (\n",
    "    (resultados_RF['param_min_samples_split'] == min_samples_split_fixed) &\n",
    "    (resultados_RF['param_min_samples_leaf'] == min_samples_leaf_fixed)\n",
    ")\n",
    "# Extraindo as pontuações médias para o heatmap\n",
    "mean_scores = np.array(resultados_RF['mean_test_score'])[mask]\n",
    "\n",
    "# Reshape para os hiperparâmetros 'criterion' e 'n_estimators'\n",
    "scores = mean_scores.reshape(len(parametros['criterion']), len(parametros['n_estimators']))\n",
    "\n",
    "# Plotar o heatmap para os resultados de 'criterion' e 'n_estimators'\n",
    "plt.figure(figsize=(10, 6))\n",
    "sns.heatmap(scores, annot=True, fmt=\".3f\", xticklabels=parametros['n_estimators'], yticklabels=parametros['criterion'], cmap='viridis')\n",
    "plt.title('Heatmap de Acurácia para Random Forest (n_estimators x criterion)')\n",
    "plt.xlabel('Número de Árvores (n_estimators)')\n",
    "plt.ylabel('Critério (criterion)')\n",
    "plt.show()"
   ]
  },
  {
   "cell_type": "markdown",
   "metadata": {},
   "source": [
    "### KNN"
   ]
  },
  {
   "cell_type": "code",
   "execution_count": 22,
   "metadata": {},
   "outputs": [],
   "source": [
    "parametros = {  # Define um dicionário chamado 'parametros' para armazenar as combinações de hiperparâmetros a serem testadas\n",
    "    'n_neighbors': [3, 5, 10, 20],  # Número de vizinhos a serem usados pelo algoritmo K-Nearest Neighbors (KNN)\n",
    "    'p': [1, 2]  # Parâmetro da métrica de distância: 1 para Manhattan (L1), 2 para Euclidiana (L2)\n",
    "}"
   ]
  },
  {
   "cell_type": "code",
   "execution_count": 23,
   "metadata": {},
   "outputs": [
    {
     "name": "stdout",
     "output_type": "stream",
     "text": [
      "{'n_neighbors': 3, 'p': 1}\n",
      "1.0\n"
     ]
    }
   ],
   "source": [
    "grid_search = GridSearchCV(estimator=KNeighborsClassifier(), param_grid=parametros)  # Cria o GridSearchCV com KNeighborsClassifier como estimador e o dicionário 'parametros' como grade de hiperparâmetros\n",
    "grid_search.fit(x_mushroom, y_mushroom)  # Ajusta o grid_search aos dados de treinamento, buscando a melhor combinação de hiperparâmetros\n",
    "melhores_parametros = grid_search.best_params_  # Obtém os melhores hiperparâmetros encontrados pelo GridSearchCV\n",
    "melhor_resultado = grid_search.best_score_  # Obtém a melhor pontuação de desempenho alcançada durante a busca\n",
    "print(melhores_parametros)  # Imprime os melhores hiperparâmetros\n",
    "print(melhor_resultado)  # Imprime a melhor pontuação de desempenho (acurácia)"
   ]
  },
  {
   "cell_type": "code",
   "execution_count": 25,
   "metadata": {},
   "outputs": [
    {
     "data": {
      "image/png": "[encoded data removed]",
      "text/plain": [
       "<Figure size 1000x600 with 2 Axes>"
      ]
     },
     "metadata": {},
     "output_type": "display_data"
    }
   ],
   "source": [
    "# Resultados do GridSearchCV\n",
    "resultados_KNN = grid_search.cv_results_\n",
    "\n",
    "# Reshape considerando os 2 parâmetros ('n_neighbors', 'p')\n",
    "scores = np.array(resultados_KNN['mean_test_score']).reshape(len(parametros['n_neighbors']), len(parametros['p']))\n",
    "\n",
    "# Criar o heatmap para visualizar os resultados\n",
    "plt.figure(figsize=(10, 6))\n",
    "sns.heatmap(scores, annot=True, fmt=\".3f\", xticklabels=parametros['p'], yticklabels=parametros['n_neighbors'], cmap='viridis')\n",
    "plt.title('Heatmap de Acurácia para KNN (n_neighbors x p)')\n",
    "plt.xlabel('Métrica de Distância (p)')\n",
    "plt.ylabel('Número de Vizinhos (n_neighbors)')\n",
    "plt.show()"
   ]
  },
  {
   "cell_type": "markdown",
   "metadata": {},
   "source": [
    "### Regressão Logística"
   ]
  },
  {
   "cell_type": "code",
   "execution_count": 142,
   "metadata": {},
   "outputs": [],
   "source": [
    "parametros = {  # Define um dicionário chamado 'parametros' para armazenar as combinações de hiperparâmetros a serem testadas\n",
    "    'tol': [0.0001, 0.00001, 0.000001],  # Tolerância para o critério de parada. Valores menores significam convergência mais precisa\n",
    "    'C': [1.0, 1.5, 2.0],  # Parâmetro de regularização. Valores menores especificam uma regularização mais forte\n",
    "    'solver': ['lbfgs', 'sag', 'saga'],  # Algoritmo de otimização a ser usado na resolução do problema de ajuste do modelo\n",
    "    'max_iter': [500, 1000]  # Aumentar o número de iterações para permitir a convergência\n",
    "}"
   ]
  },
  {
   "cell_type": "code",
   "execution_count": 143,
   "metadata": {},
   "outputs": [
    {
     "name": "stdout",
     "output_type": "stream",
     "text": [
      "{'C': 1.0, 'max_iter': 500, 'solver': 'lbfgs', 'tol': 0.0001}\n",
      "0.876414096248579\n"
     ]
    }
   ],
   "source": [
    "# Suprime os warnings de convergência\n",
    "warnings.filterwarnings('ignore', category=ConvergenceWarning)\n",
    "\n",
    "grid_search = GridSearchCV(estimator=LogisticRegression(), param_grid=parametros)  # Cria o GridSearchCV com LogisticRegression como estimador e o dicionário 'parametros' como grade de hiperparâmetros\n",
    "grid_search.fit(x_mushroom, y_mushroom)  # Ajusta o grid_search aos dados de treinamento, buscando a melhor combinação de hiperparâmetros\n",
    "melhores_parametros = grid_search.best_params_  # Obtém os melhores hiperparâmetros encontrados pelo GridSearchCV\n",
    "melhor_resultado = grid_search.best_score_  # Obtém a melhor pontuação de desempenho alcançada durante a busca\n",
    "print(melhores_parametros)  # Imprime os melhores hiperparâmetros\n",
    "print(melhor_resultado)  # Imprime a melhor pontuação de desempenho (acurácia)"
   ]
  },
  {
   "cell_type": "code",
   "execution_count": 34,
   "metadata": {},
   "outputs": [
    {
     "data": {
      "image/png": "[encoded data removed]",
      "text/plain": [
       "<Figure size 1000x600 with 2 Axes>"
      ]
     },
     "metadata": {},
     "output_type": "display_data"
    }
   ],
   "source": [
    "# Resultados do GridSearchCV\n",
    "resultados_LR = grid_search.cv_results_\n",
    "\n",
    "# Escolher um valor fixo para solver e max_iter\n",
    "solver_value = 'lbfgs'  # Escolha um valor fixo de solver\n",
    "max_iter_value = 500     # Escolha um valor fixo de max_iter\n",
    "\n",
    "# Filtrar os resultados com base no solver e max_iter escolhidos\n",
    "mask = (resultados_LR['param_solver'] == solver_value) & (resultados_LR['param_max_iter'] == max_iter_value)\n",
    "\n",
    "# Extraindo as pontuações médias para o heatmap\n",
    "mean_scores = np.array(resultados_LR['mean_test_score'])[mask]\n",
    "\n",
    "# Reshape dos scores para ajustar aos parâmetros tol e C\n",
    "scores = mean_scores.reshape(len(parametros['tol']), len(parametros['C']))\n",
    "\n",
    "# Criar o heatmap para visualizar tol vs C com o solver e max_iter fixos\n",
    "plt.figure(figsize=(10, 6))\n",
    "sns.heatmap(scores, annot=True, fmt=\".3f\", xticklabels=parametros['C'], yticklabels=parametros['tol'], cmap='viridis')\n",
    "plt.title(f\"Heatmap de Acurácia para solver={solver_value} e max_iter={max_iter_value}\")\n",
    "plt.xlabel('Parâmetro de Regularização (C)')\n",
    "plt.ylabel('Tolerância (tol)')\n",
    "plt.show()\n"
   ]
  },
  {
   "cell_type": "markdown",
   "metadata": {},
   "source": [
    "### SVM"
   ]
  },
  {
   "cell_type": "code",
   "execution_count": 51,
   "metadata": {},
   "outputs": [],
   "source": [
    "parametros = {  # Define um dicionário chamado 'parametros' para armazenar as combinações de hiperparâmetros a serem testadas\n",
    "    'tol': [0.001, 0.0001, 0.00001],  # Tolerância para o critério de parada. Valores menores significam convergência mais precisa\n",
    "    'C': [0.1, 0.5, 1],  # Parâmetro de regularização. Valores menores especificam uma regularização mais forte\n",
    "    'kernel': ['rbf', 'linear', 'poly', 'sigmoid']  # Tipo de função kernel a ser usada pelo SVM\n",
    "}"
   ]
  },
  {
   "cell_type": "code",
   "execution_count": 52,
   "metadata": {},
   "outputs": [
    {
     "name": "stdout",
     "output_type": "stream",
     "text": [
      "{'C': 1, 'kernel': 'rbf', 'tol': 0.001}\n",
      "0.9847361121636984\n"
     ]
    }
   ],
   "source": [
    "grid_search = GridSearchCV(estimator=SVC(), param_grid=parametros)  # Cria o GridSearchCV com SVC como estimador e o dicionário 'parametros' como grade de hiperparâmetros\n",
    "grid_search.fit(x_mushroom, y_mushroom)  # Ajusta o grid_search aos dados de treinamento, buscando a melhor combinação de hiperparâmetros\n",
    "melhores_parametros = grid_search.best_params_  # Obtém os melhores hiperparâmetros encontrados pelo GridSearchCV\n",
    "melhor_resultado = grid_search.best_score_  # Obtém a melhor pontuação de desempenho alcançada durante a busca\n",
    "print(melhores_parametros)  # Imprime os melhores hiperparâmetros\n",
    "print(melhor_resultado)  # Imprime a melhor pontuação de desempenho (acurácia)\n"
   ]
  },
  {
   "cell_type": "code",
   "execution_count": 53,
   "metadata": {},
   "outputs": [
    {
     "data": {
      "image/png": "[encoded data removed]",
      "text/plain": [
       "<Figure size 1000x600 with 2 Axes>"
      ]
     },
     "metadata": {},
     "output_type": "display_data"
    }
   ],
   "source": [
    "# Obter os resultados do GridSearchCV\n",
    "resultados_SVM = grid_search.cv_results_\n",
    "\n",
    "# Reshape considerando os 3 parâmetros (tol, C, kernel)\n",
    "scores = np.array(resultados_SVM['mean_test_score']).reshape(len(parametros['tol']), len(parametros['C']), len(parametros['kernel']))\n",
    "\n",
    "# Identificar o índice correspondente ao valor de tol=0.001\n",
    "tol_index = parametros['tol'].index(0.001)\n",
    "\n",
    "# Plotar o heatmap apenas para tol=0.001\n",
    "plt.figure(figsize=(10, 6))\n",
    "sns.heatmap(scores[tol_index], annot=True, fmt=\".3f\", xticklabels=parametros['kernel'], yticklabels=parametros['C'], cmap='viridis')\n",
    "plt.title(f\"Heatmap de Acurácia para tol=0.001\")\n",
    "plt.xlabel('Kernel')\n",
    "plt.ylabel('C')\n",
    "plt.show()\n"
   ]
  },
  {
   "cell_type": "markdown",
   "metadata": {},
   "source": [
    "### Redes Neurais"
   ]
  },
  {
   "cell_type": "code",
   "execution_count": 145,
   "metadata": {},
   "outputs": [],
   "source": [
    "parametros = {  # Define um dicionário chamado 'parametros' para armazenar as combinações de hiperparâmetros a serem testadas\n",
    "    'activation': ['relu', 'logistic', 'tanh'],  # Função de ativação a ser usada nas camadas ocultas ('relu', 'logistic', 'tanh')\n",
    "    'solver': ['adam', 'sgd'],  # Algoritmo para otimização do modelo ('adam', 'sgd')\n",
    "    'batch_size': [10, 560],  # Tamanho do lote para atualização dos gradientes\n",
    "    'max_iter': [500, 1000]  # Aumentando o número de iterações para garantir a convergência\n",
    "}"
   ]
  },
  {
   "cell_type": "code",
   "execution_count": 146,
   "metadata": {},
   "outputs": [
    {
     "name": "stdout",
     "output_type": "stream",
     "text": [
      "{'activation': 'relu', 'batch_size': 10, 'max_iter': 500, 'solver': 'adam'}\n",
      "1.0\n"
     ]
    }
   ],
   "source": [
    "warnings.filterwarnings(\"ignore\", category=ConvergenceWarning)\n",
    "\n",
    "grid_search = GridSearchCV(estimator=MLPClassifier(), param_grid=parametros)  # Cria o GridSearchCV com MLPClassifier e a grade de hiperparâmetros\n",
    "grid_search.fit(x_mushroom, y_mushroom)  # Ajusta o grid_search aos dados de treinamento, realizando a busca exaustiva de hiperparâmetros\n",
    "melhores_parametros = grid_search.best_params_  # Obtém os melhores hiperparâmetros encontrados pelo GridSearchCV\n",
    "melhor_resultado = grid_search.best_score_  # Obtém a melhor pontuação de desempenho alcançada durante a busca\n",
    "print(melhores_parametros)  # Imprime os melhores hiperparâmetros\n",
    "print(melhor_resultado)  # Imprime a melhor pontuação de desempenho (acurácia)"
   ]
  },
  {
   "cell_type": "code",
   "execution_count": 56,
   "metadata": {},
   "outputs": [
    {
     "data": {
      "image/png": "[encoded data removed]",
      "text/plain": [
       "<Figure size 1000x600 with 2 Axes>"
      ]
     },
     "metadata": {},
     "output_type": "display_data"
    }
   ],
   "source": [
    "resultados_mlp = grid_search.cv_results_\n",
    "\n",
    "# Filtrar os resultados apenas para batch_size = 10 e max_iter = 500\n",
    "batch_size_index = parametros['batch_size'].index(10)  # Índice para batch_size = 10\n",
    "max_iter_index = parametros['max_iter'].index(500)  # Índice para max_iter = 500\n",
    "\n",
    "# Reshape considerando apenas os parâmetros 'activation' e 'solver' para os valores fixos de batch_size e max_iter\n",
    "scores = np.array(resultados_mlp['mean_test_score']).reshape(\n",
    "    len(parametros['activation']), len(parametros['solver']), len(parametros['batch_size']), len(parametros['max_iter'])\n",
    ")\n",
    "\n",
    "# Selecionar os scores específicos para batch_size = 10 e max_iter = 500\n",
    "selected_scores = scores[:, :, batch_size_index, max_iter_index]\n",
    "\n",
    "# Plotar o heatmap para a combinação de batch_size = 10 e max_iter = 500\n",
    "plt.figure(figsize=(10, 6))\n",
    "sns.heatmap(selected_scores, annot=True, fmt=\".3f\", xticklabels=parametros['solver'], yticklabels=parametros['activation'], cmap='viridis')\n",
    "plt.title(f\"Heatmap de Acurácia para batch_size=10, max_iter=500\")\n",
    "plt.xlabel('Solver')\n",
    "plt.ylabel('Activation')\n",
    "plt.show()\n"
   ]
  },
  {
   "cell_type": "markdown",
   "metadata": {},
   "source": [
    "### Validação Cruzada"
   ]
  },
  {
   "cell_type": "code",
   "execution_count": 161,
   "metadata": {},
   "outputs": [
    {
     "name": "stdout",
     "output_type": "stream",
     "text": [
      "0\n",
      "1\n",
      "2\n",
      "3\n",
      "4\n",
      "5\n",
      "6\n",
      "7\n",
      "8\n",
      "9\n",
      "10\n",
      "11\n",
      "12\n",
      "13\n",
      "14\n",
      "15\n",
      "16\n",
      "17\n",
      "18\n",
      "19\n",
      "20\n",
      "21\n",
      "22\n",
      "23\n",
      "24\n",
      "25\n",
      "26\n",
      "27\n",
      "28\n",
      "29\n"
     ]
    }
   ],
   "source": [
    "warnings.filterwarnings(\"ignore\", category=FutureWarning)\n",
    "\n",
    "# Inicialização de listas para armazenar os resultados das avaliações dos modelos\n",
    "resultados_arvore = []  # Lista para armazenar os resultados da Árvore de Decisão\n",
    "resultados_random_forest = []  # Lista para armazenar os resultados do Random Forest\n",
    "resultados_knn = []  # Lista para armazenar os resultados do KNN\n",
    "resultados_logistica = []  # Lista para armazenar os resultados da Regressão Logística\n",
    "resultados_svm = []  # Lista para armazenar os resultados do SVM\n",
    "resultados_rede_neural = []  # Lista para armazenar os resultados da Rede Neural\n",
    "\n",
    "# Loop para realizar a validação cruzada 30 vezes com diferentes seeds\n",
    "for i in range(30):\n",
    "    print(i)  # Imprime o número da iteração atual\n",
    "\n",
    "    # Criação do KFold com 10 divisões, embaralhando os dados e utilizando uma seed diferente a cada iteração\n",
    "    kfold = KFold(n_splits=10, shuffle=True, random_state=i)  # Cria uma instância do KFold para a validação cruzada\n",
    "\n",
    "    # Avaliação da Árvore de Decisão\n",
    "    arvore = DecisionTreeClassifier(criterion='gini', min_samples_leaf=1, min_samples_split=2, splitter='best')  # Define o modelo de Árvore de Decisão com hiperparâmetros ajustados\n",
    "    scores = cross_val_score(arvore, x_mushroom, y_mushroom, cv=kfold)  # Executa a validação cruzada e armazena as acurácias\n",
    "    resultados_arvore.append(scores.mean())  # Calcula e armazena a média das acurácias\n",
    "\n",
    "    # Avaliação do Random Forest\n",
    "    random_forest = RandomForestClassifier(criterion='gini', min_samples_leaf=1, min_samples_split=2, n_estimators=10)  # Define o modelo Random Forest com hiperparâmetros ajustados\n",
    "    scores = cross_val_score(random_forest, x_mushroom, y_mushroom, cv=kfold)  # Executa a validação cruzada e armazena as acurácias\n",
    "    resultados_random_forest.append(scores.mean())  # Calcula e armazena a média das acurácias\n",
    "\n",
    "    # Avaliação do KNN\n",
    "    knn = KNeighborsClassifier(n_neighbors=3, p=1)  # Define o modelo KNN com hiperparâmetros ajustados\n",
    "    scores = cross_val_score(knn, x_mushroom, y_mushroom, cv=kfold)  # Executa a validação cruzada e armazena as acurácias\n",
    "    resultados_knn.append(scores.mean())  # Calcula e armazena a média das acurácias\n",
    "\n",
    "    # Avaliação da Regressão Logística\n",
    "    logistica = LogisticRegression(C=1.0, max_iter=500, solver='lbfgs', tol=0.0001)  # Define o modelo de Regressão Logística com hiperparâmetros ajustados\n",
    "    scores = cross_val_score(logistica, x_mushroom, y_mushroom, cv=kfold)  # Executa a validação cruzada e armazena as acurácias\n",
    "    resultados_logistica.append(scores.mean())  # Calcula e armazena a média das acurácias\n",
    "\n",
    "    # Avaliação do SVM\n",
    "    svm = SVC(C=1, kernel='rbf', tol=0.001)  # Define o modelo SVM com hiperparâmetros ajustados\n",
    "    scores = cross_val_score(svm, x_mushroom, y_mushroom, cv=kfold)  # Executa a validação cruzada e armazena as acurácias\n",
    "    resultados_svm.append(scores.mean())  # Calcula e armazena a média das acurácias\n",
    "\n",
    "    # Avaliação da Rede Neural (ajuste manual, resultados esperados a serem incluídos)\n",
    "    rede_neural = MLPClassifier(activation='relu', batch_size=10, solver='adam', max_iter=500)  # Define o modelo de Rede Neural com hiperparâmetros ajustados\n",
    "    scores = cross_val_score(rede_neural, x_mushroom, y_mushroom, cv=kfold)  # Executa a validação cruzada e armazena as acurácias\n",
    "    resultados_rede_neural.append(scores.mean())  # Calcula e armazena a média das acurácias"
   ]
  },
  {
   "cell_type": "code",
   "execution_count": 162,
   "metadata": {},
   "outputs": [
    {
     "data": {
      "text/html": [
       "<div>\n",
       "<style scoped>\n",
       "    .dataframe tbody tr th:only-of-type {\n",
       "        vertical-align: middle;\n",
       "    }\n",
       "\n",
       "    .dataframe tbody tr th {\n",
       "        vertical-align: top;\n",
       "    }\n",
       "\n",
       "    .dataframe thead th {\n",
       "        text-align: right;\n",
       "    }\n",
       "</style>\n",
       "<table border=\"1\" class=\"dataframe\">\n",
       "  <thead>\n",
       "    <tr style=\"text-align: right;\">\n",
       "      <th></th>\n",
       "      <th>Arvore</th>\n",
       "      <th>Random forest</th>\n",
       "      <th>KNN</th>\n",
       "      <th>Logistica</th>\n",
       "      <th>SVM</th>\n",
       "      <th>Rede neural</th>\n",
       "    </tr>\n",
       "  </thead>\n",
       "  <tbody>\n",
       "    <tr>\n",
       "      <th>0</th>\n",
       "      <td>1.000000</td>\n",
       "      <td>1.000000</td>\n",
       "      <td>0.999877</td>\n",
       "      <td>0.876416</td>\n",
       "      <td>0.990520</td>\n",
       "      <td>0.998892</td>\n",
       "    </tr>\n",
       "    <tr>\n",
       "      <th>1</th>\n",
       "      <td>1.000000</td>\n",
       "      <td>1.000000</td>\n",
       "      <td>0.999877</td>\n",
       "      <td>0.876416</td>\n",
       "      <td>0.990030</td>\n",
       "      <td>0.999754</td>\n",
       "    </tr>\n",
       "    <tr>\n",
       "      <th>2</th>\n",
       "      <td>1.000000</td>\n",
       "      <td>1.000000</td>\n",
       "      <td>0.999631</td>\n",
       "      <td>0.876413</td>\n",
       "      <td>0.990152</td>\n",
       "      <td>0.998646</td>\n",
       "    </tr>\n",
       "    <tr>\n",
       "      <th>3</th>\n",
       "      <td>1.000000</td>\n",
       "      <td>1.000000</td>\n",
       "      <td>1.000000</td>\n",
       "      <td>0.876417</td>\n",
       "      <td>0.989168</td>\n",
       "      <td>0.999877</td>\n",
       "    </tr>\n",
       "    <tr>\n",
       "      <th>4</th>\n",
       "      <td>1.000000</td>\n",
       "      <td>1.000000</td>\n",
       "      <td>1.000000</td>\n",
       "      <td>0.876413</td>\n",
       "      <td>0.988428</td>\n",
       "      <td>0.998769</td>\n",
       "    </tr>\n",
       "    <tr>\n",
       "      <th>5</th>\n",
       "      <td>1.000000</td>\n",
       "      <td>1.000000</td>\n",
       "      <td>1.000000</td>\n",
       "      <td>0.876416</td>\n",
       "      <td>0.990028</td>\n",
       "      <td>0.999877</td>\n",
       "    </tr>\n",
       "    <tr>\n",
       "      <th>6</th>\n",
       "      <td>1.000000</td>\n",
       "      <td>0.999877</td>\n",
       "      <td>1.000000</td>\n",
       "      <td>0.876415</td>\n",
       "      <td>0.992244</td>\n",
       "      <td>0.999631</td>\n",
       "    </tr>\n",
       "    <tr>\n",
       "      <th>7</th>\n",
       "      <td>1.000000</td>\n",
       "      <td>1.000000</td>\n",
       "      <td>1.000000</td>\n",
       "      <td>0.876418</td>\n",
       "      <td>0.991017</td>\n",
       "      <td>0.999385</td>\n",
       "    </tr>\n",
       "    <tr>\n",
       "      <th>8</th>\n",
       "      <td>1.000000</td>\n",
       "      <td>1.000000</td>\n",
       "      <td>1.000000</td>\n",
       "      <td>0.876409</td>\n",
       "      <td>0.989905</td>\n",
       "      <td>1.000000</td>\n",
       "    </tr>\n",
       "    <tr>\n",
       "      <th>9</th>\n",
       "      <td>1.000000</td>\n",
       "      <td>1.000000</td>\n",
       "      <td>1.000000</td>\n",
       "      <td>0.876413</td>\n",
       "      <td>0.990644</td>\n",
       "      <td>0.999631</td>\n",
       "    </tr>\n",
       "    <tr>\n",
       "      <th>10</th>\n",
       "      <td>1.000000</td>\n",
       "      <td>1.000000</td>\n",
       "      <td>1.000000</td>\n",
       "      <td>0.876412</td>\n",
       "      <td>0.991383</td>\n",
       "      <td>0.998523</td>\n",
       "    </tr>\n",
       "    <tr>\n",
       "      <th>11</th>\n",
       "      <td>1.000000</td>\n",
       "      <td>1.000000</td>\n",
       "      <td>1.000000</td>\n",
       "      <td>0.876413</td>\n",
       "      <td>0.991015</td>\n",
       "      <td>1.000000</td>\n",
       "    </tr>\n",
       "    <tr>\n",
       "      <th>12</th>\n",
       "      <td>1.000000</td>\n",
       "      <td>1.000000</td>\n",
       "      <td>1.000000</td>\n",
       "      <td>0.876416</td>\n",
       "      <td>0.988429</td>\n",
       "      <td>0.999877</td>\n",
       "    </tr>\n",
       "    <tr>\n",
       "      <th>13</th>\n",
       "      <td>0.999754</td>\n",
       "      <td>1.000000</td>\n",
       "      <td>1.000000</td>\n",
       "      <td>0.876417</td>\n",
       "      <td>0.990398</td>\n",
       "      <td>0.999015</td>\n",
       "    </tr>\n",
       "    <tr>\n",
       "      <th>14</th>\n",
       "      <td>1.000000</td>\n",
       "      <td>1.000000</td>\n",
       "      <td>1.000000</td>\n",
       "      <td>0.876412</td>\n",
       "      <td>0.988428</td>\n",
       "      <td>0.999385</td>\n",
       "    </tr>\n",
       "    <tr>\n",
       "      <th>15</th>\n",
       "      <td>1.000000</td>\n",
       "      <td>1.000000</td>\n",
       "      <td>1.000000</td>\n",
       "      <td>0.876412</td>\n",
       "      <td>0.991997</td>\n",
       "      <td>0.999877</td>\n",
       "    </tr>\n",
       "    <tr>\n",
       "      <th>16</th>\n",
       "      <td>1.000000</td>\n",
       "      <td>1.000000</td>\n",
       "      <td>1.000000</td>\n",
       "      <td>0.876419</td>\n",
       "      <td>0.991138</td>\n",
       "      <td>0.999754</td>\n",
       "    </tr>\n",
       "    <tr>\n",
       "      <th>17</th>\n",
       "      <td>1.000000</td>\n",
       "      <td>1.000000</td>\n",
       "      <td>1.000000</td>\n",
       "      <td>0.876415</td>\n",
       "      <td>0.989413</td>\n",
       "      <td>0.999877</td>\n",
       "    </tr>\n",
       "    <tr>\n",
       "      <th>18</th>\n",
       "      <td>1.000000</td>\n",
       "      <td>1.000000</td>\n",
       "      <td>1.000000</td>\n",
       "      <td>0.876416</td>\n",
       "      <td>0.991138</td>\n",
       "      <td>1.000000</td>\n",
       "    </tr>\n",
       "    <tr>\n",
       "      <th>19</th>\n",
       "      <td>1.000000</td>\n",
       "      <td>1.000000</td>\n",
       "      <td>1.000000</td>\n",
       "      <td>0.876413</td>\n",
       "      <td>0.992368</td>\n",
       "      <td>1.000000</td>\n",
       "    </tr>\n",
       "    <tr>\n",
       "      <th>20</th>\n",
       "      <td>0.999507</td>\n",
       "      <td>0.999754</td>\n",
       "      <td>0.999754</td>\n",
       "      <td>0.876418</td>\n",
       "      <td>0.989167</td>\n",
       "      <td>0.999631</td>\n",
       "    </tr>\n",
       "    <tr>\n",
       "      <th>21</th>\n",
       "      <td>1.000000</td>\n",
       "      <td>1.000000</td>\n",
       "      <td>1.000000</td>\n",
       "      <td>0.876418</td>\n",
       "      <td>0.991628</td>\n",
       "      <td>0.999877</td>\n",
       "    </tr>\n",
       "    <tr>\n",
       "      <th>22</th>\n",
       "      <td>1.000000</td>\n",
       "      <td>1.000000</td>\n",
       "      <td>1.000000</td>\n",
       "      <td>0.876416</td>\n",
       "      <td>0.991630</td>\n",
       "      <td>0.998277</td>\n",
       "    </tr>\n",
       "    <tr>\n",
       "      <th>23</th>\n",
       "      <td>1.000000</td>\n",
       "      <td>1.000000</td>\n",
       "      <td>0.999385</td>\n",
       "      <td>0.876411</td>\n",
       "      <td>0.991139</td>\n",
       "      <td>1.000000</td>\n",
       "    </tr>\n",
       "    <tr>\n",
       "      <th>24</th>\n",
       "      <td>1.000000</td>\n",
       "      <td>1.000000</td>\n",
       "      <td>1.000000</td>\n",
       "      <td>0.876417</td>\n",
       "      <td>0.990152</td>\n",
       "      <td>0.999508</td>\n",
       "    </tr>\n",
       "    <tr>\n",
       "      <th>25</th>\n",
       "      <td>1.000000</td>\n",
       "      <td>1.000000</td>\n",
       "      <td>0.999754</td>\n",
       "      <td>0.876415</td>\n",
       "      <td>0.990031</td>\n",
       "      <td>0.999631</td>\n",
       "    </tr>\n",
       "    <tr>\n",
       "      <th>26</th>\n",
       "      <td>1.000000</td>\n",
       "      <td>1.000000</td>\n",
       "      <td>1.000000</td>\n",
       "      <td>0.876413</td>\n",
       "      <td>0.988181</td>\n",
       "      <td>0.999631</td>\n",
       "    </tr>\n",
       "    <tr>\n",
       "      <th>27</th>\n",
       "      <td>1.000000</td>\n",
       "      <td>1.000000</td>\n",
       "      <td>1.000000</td>\n",
       "      <td>0.876415</td>\n",
       "      <td>0.991753</td>\n",
       "      <td>0.999631</td>\n",
       "    </tr>\n",
       "    <tr>\n",
       "      <th>28</th>\n",
       "      <td>1.000000</td>\n",
       "      <td>1.000000</td>\n",
       "      <td>0.999754</td>\n",
       "      <td>0.876416</td>\n",
       "      <td>0.989784</td>\n",
       "      <td>0.999754</td>\n",
       "    </tr>\n",
       "    <tr>\n",
       "      <th>29</th>\n",
       "      <td>1.000000</td>\n",
       "      <td>1.000000</td>\n",
       "      <td>1.000000</td>\n",
       "      <td>0.876416</td>\n",
       "      <td>0.991260</td>\n",
       "      <td>0.999631</td>\n",
       "    </tr>\n",
       "  </tbody>\n",
       "</table>\n",
       "</div>"
      ],
      "text/plain": [
       "      Arvore  Random forest       KNN  Logistica       SVM  Rede neural\n",
       "0   1.000000       1.000000  0.999877   0.876416  0.990520     0.998892\n",
       "1   1.000000       1.000000  0.999877   0.876416  0.990030     0.999754\n",
       "2   1.000000       1.000000  0.999631   0.876413  0.990152     0.998646\n",
       "3   1.000000       1.000000  1.000000   0.876417  0.989168     0.999877\n",
       "4   1.000000       1.000000  1.000000   0.876413  0.988428     0.998769\n",
       "5   1.000000       1.000000  1.000000   0.876416  0.990028     0.999877\n",
       "6   1.000000       0.999877  1.000000   0.876415  0.992244     0.999631\n",
       "7   1.000000       1.000000  1.000000   0.876418  0.991017     0.999385\n",
       "8   1.000000       1.000000  1.000000   0.876409  0.989905     1.000000\n",
       "9   1.000000       1.000000  1.000000   0.876413  0.990644     0.999631\n",
       "10  1.000000       1.000000  1.000000   0.876412  0.991383     0.998523\n",
       "11  1.000000       1.000000  1.000000   0.876413  0.991015     1.000000\n",
       "12  1.000000       1.000000  1.000000   0.876416  0.988429     0.999877\n",
       "13  0.999754       1.000000  1.000000   0.876417  0.990398     0.999015\n",
       "14  1.000000       1.000000  1.000000   0.876412  0.988428     0.999385\n",
       "15  1.000000       1.000000  1.000000   0.876412  0.991997     0.999877\n",
       "16  1.000000       1.000000  1.000000   0.876419  0.991138     0.999754\n",
       "17  1.000000       1.000000  1.000000   0.876415  0.989413     0.999877\n",
       "18  1.000000       1.000000  1.000000   0.876416  0.991138     1.000000\n",
       "19  1.000000       1.000000  1.000000   0.876413  0.992368     1.000000\n",
       "20  0.999507       0.999754  0.999754   0.876418  0.989167     0.999631\n",
       "21  1.000000       1.000000  1.000000   0.876418  0.991628     0.999877\n",
       "22  1.000000       1.000000  1.000000   0.876416  0.991630     0.998277\n",
       "23  1.000000       1.000000  0.999385   0.876411  0.991139     1.000000\n",
       "24  1.000000       1.000000  1.000000   0.876417  0.990152     0.999508\n",
       "25  1.000000       1.000000  0.999754   0.876415  0.990031     0.999631\n",
       "26  1.000000       1.000000  1.000000   0.876413  0.988181     0.999631\n",
       "27  1.000000       1.000000  1.000000   0.876415  0.991753     0.999631\n",
       "28  1.000000       1.000000  0.999754   0.876416  0.989784     0.999754\n",
       "29  1.000000       1.000000  1.000000   0.876416  0.991260     0.999631"
      ]
     },
     "execution_count": 162,
     "metadata": {},
     "output_type": "execute_result"
    }
   ],
   "source": [
    "# Criação de um DataFrame com os resultados das validações cruzadas\n",
    "resultados = pd.DataFrame({\n",
    "    'Arvore': resultados_arvore,  # Coluna com os resultados da Árvore de Decisão\n",
    "    'Random forest': resultados_random_forest,  # Coluna com os resultados do Random Forest\n",
    "    'KNN': resultados_knn,  # Coluna com os resultados do KNN\n",
    "    'Logistica': resultados_logistica,  # Coluna com os resultados da Regressão Logística\n",
    "    'SVM': resultados_svm,  # Coluna com os resultados do SVM\n",
    "    'Rede neural': resultados_rede_neural  # Coluna com os resultados da Rede Neural\n",
    "})\n",
    "\n",
    "# Exibição do DataFrame contendo os resultados\n",
    "resultados  # Exibe o DataFrame na saída, mostrando a média das acurácias para cada modelo em cada iteração"
   ]
  },
  {
   "cell_type": "code",
   "execution_count": 59,
   "metadata": {},
   "outputs": [
    {
     "data": {
      "text/html": [
       "<div>\n",
       "<style scoped>\n",
       "    .dataframe tbody tr th:only-of-type {\n",
       "        vertical-align: middle;\n",
       "    }\n",
       "\n",
       "    .dataframe tbody tr th {\n",
       "        vertical-align: top;\n",
       "    }\n",
       "\n",
       "    .dataframe thead th {\n",
       "        text-align: right;\n",
       "    }\n",
       "</style>\n",
       "<table border=\"1\" class=\"dataframe\">\n",
       "  <thead>\n",
       "    <tr style=\"text-align: right;\">\n",
       "      <th></th>\n",
       "      <th>Arvore</th>\n",
       "      <th>Random forest</th>\n",
       "      <th>KNN</th>\n",
       "      <th>Logistica</th>\n",
       "      <th>SVM</th>\n",
       "      <th>Rede neural</th>\n",
       "    </tr>\n",
       "  </thead>\n",
       "  <tbody>\n",
       "    <tr>\n",
       "      <th>count</th>\n",
       "      <td>30.0</td>\n",
       "      <td>30.000000</td>\n",
       "      <td>30.000000</td>\n",
       "      <td>30.000000</td>\n",
       "      <td>30.000000</td>\n",
       "      <td>30.000000</td>\n",
       "    </tr>\n",
       "    <tr>\n",
       "      <th>mean</th>\n",
       "      <td>1.0</td>\n",
       "      <td>0.999984</td>\n",
       "      <td>0.999934</td>\n",
       "      <td>0.876415</td>\n",
       "      <td>0.991039</td>\n",
       "      <td>0.999635</td>\n",
       "    </tr>\n",
       "    <tr>\n",
       "      <th>std</th>\n",
       "      <td>0.0</td>\n",
       "      <td>0.000062</td>\n",
       "      <td>0.000128</td>\n",
       "      <td>0.000002</td>\n",
       "      <td>0.001129</td>\n",
       "      <td>0.000329</td>\n",
       "    </tr>\n",
       "    <tr>\n",
       "      <th>min</th>\n",
       "      <td>1.0</td>\n",
       "      <td>0.999754</td>\n",
       "      <td>0.999507</td>\n",
       "      <td>0.876411</td>\n",
       "      <td>0.987813</td>\n",
       "      <td>0.998892</td>\n",
       "    </tr>\n",
       "    <tr>\n",
       "      <th>25%</th>\n",
       "      <td>1.0</td>\n",
       "      <td>1.000000</td>\n",
       "      <td>0.999877</td>\n",
       "      <td>0.876413</td>\n",
       "      <td>0.990430</td>\n",
       "      <td>0.999508</td>\n",
       "    </tr>\n",
       "    <tr>\n",
       "      <th>50%</th>\n",
       "      <td>1.0</td>\n",
       "      <td>1.000000</td>\n",
       "      <td>1.000000</td>\n",
       "      <td>0.876415</td>\n",
       "      <td>0.991260</td>\n",
       "      <td>0.999754</td>\n",
       "    </tr>\n",
       "    <tr>\n",
       "      <th>75%</th>\n",
       "      <td>1.0</td>\n",
       "      <td>1.000000</td>\n",
       "      <td>1.000000</td>\n",
       "      <td>0.876416</td>\n",
       "      <td>0.991815</td>\n",
       "      <td>0.999877</td>\n",
       "    </tr>\n",
       "    <tr>\n",
       "      <th>max</th>\n",
       "      <td>1.0</td>\n",
       "      <td>1.000000</td>\n",
       "      <td>1.000000</td>\n",
       "      <td>0.876419</td>\n",
       "      <td>0.992860</td>\n",
       "      <td>1.000000</td>\n",
       "    </tr>\n",
       "  </tbody>\n",
       "</table>\n",
       "</div>"
      ],
      "text/plain": [
       "       Arvore  Random forest        KNN  Logistica        SVM  Rede neural\n",
       "count    30.0      30.000000  30.000000  30.000000  30.000000    30.000000\n",
       "mean      1.0       0.999984   0.999934   0.876415   0.991039     0.999635\n",
       "std       0.0       0.000062   0.000128   0.000002   0.001129     0.000329\n",
       "min       1.0       0.999754   0.999507   0.876411   0.987813     0.998892\n",
       "25%       1.0       1.000000   0.999877   0.876413   0.990430     0.999508\n",
       "50%       1.0       1.000000   1.000000   0.876415   0.991260     0.999754\n",
       "75%       1.0       1.000000   1.000000   0.876416   0.991815     0.999877\n",
       "max       1.0       1.000000   1.000000   0.876419   0.992860     1.000000"
      ]
     },
     "execution_count": 59,
     "metadata": {},
     "output_type": "execute_result"
    }
   ],
   "source": [
    "resultados.describe()"
   ]
  },
  {
   "cell_type": "code",
   "execution_count": 60,
   "metadata": {},
   "outputs": [
    {
     "data": {
      "text/plain": [
       "Arvore           0.000000e+00\n",
       "Random forest    3.904961e-09\n",
       "KNN              1.644531e-08\n",
       "Logistica        4.583502e-12\n",
       "SVM              1.275214e-06\n",
       "Rede neural      1.081776e-07\n",
       "dtype: float64"
      ]
     },
     "execution_count": 60,
     "metadata": {},
     "output_type": "execute_result"
    }
   ],
   "source": [
    "# Calcula e exibe a variância dos resultados das validações cruzadas para cada modelo\n",
    "# Baixa variância indica desempenho consistente e previsível do modelo, com variações mínimas nas acurácias entre as iterações.\n",
    "# Alta variância sugere sensibilidade a pequenas mudanças nos dados ou hiperparâmetros, levando a um desempenho menos estável e mais variável durante as iterações da validação cruzada.\n",
    "resultados.var()"
   ]
  },
  {
   "cell_type": "code",
   "execution_count": 61,
   "metadata": {},
   "outputs": [
    {
     "data": {
      "text/plain": [
       "Arvore           0.000000\n",
       "Random forest    0.006249\n",
       "KNN              0.012825\n",
       "Logistica        0.000244\n",
       "SVM              0.113946\n",
       "Rede neural      0.032902\n",
       "dtype: float64"
      ]
     },
     "execution_count": 61,
     "metadata": {},
     "output_type": "execute_result"
    }
   ],
   "source": [
    "# Calcula e exibe o Coeficiente de Variação (CV) dos resultados das validações cruzadas para cada modelo, em percentual\n",
    "(resultados.std() / resultados.mean()) * 100"
   ]
  },
  {
   "cell_type": "markdown",
   "metadata": {},
   "source": [
    "### Teste de normalidade nos resultados"
   ]
  },
  {
   "cell_type": "code",
   "execution_count": 158,
   "metadata": {},
   "outputs": [],
   "source": [
    "# Valor p > 0.05: os dados são normais.\n",
    "# Valor p ≤ 0.05: os dados não são normais.\n",
    "alpha = 0.05"
   ]
  },
  {
   "cell_type": "code",
   "execution_count": 163,
   "metadata": {},
   "outputs": [
    {
     "data": {
      "text/plain": [
       "(ShapiroResult(statistic=np.float64(0.27338863845597294), pvalue=np.float64(4.239416616444376e-11)),\n",
       " ShapiroResult(statistic=np.float64(0.2734380812981837), pvalue=np.float64(4.243378800637372e-11)),\n",
       " ShapiroResult(statistic=np.float64(0.5369081172777153), pvalue=np.float64(1.345667957232337e-08)),\n",
       " ShapiroResult(statistic=np.float64(0.9500870145893647), pvalue=np.float64(0.16996992117014237)),\n",
       " ShapiroResult(statistic=np.float64(0.9586797739647646), pvalue=np.float64(0.28650201946138265)),\n",
       " ShapiroResult(statistic=np.float64(0.8173129208190051), pvalue=np.float64(0.0001378466335832429)))"
      ]
     },
     "execution_count": 163,
     "metadata": {},
     "output_type": "execute_result"
    }
   ],
   "source": [
    "# Suprime warnings relacionados ao scipy.stats.shapiro\n",
    "warnings.filterwarnings('ignore', category=UserWarning, module='scipy.stats')\n",
    "\n",
    "shapiro(resultados_arvore), shapiro(resultados_random_forest), shapiro(resultados_knn), shapiro(resultados_logistica), shapiro(resultados_svm), shapiro(resultados_rede_neural)"
   ]
  },
  {
   "cell_type": "markdown",
   "metadata": {},
   "source": [
    "### Análise dos Resultados dos Testes de Shapiro-Wilk:\n",
    "\n",
    "- **Árvore de Decisão:** p-value = 4.2396e-11 (resíduos muito distantes da normalidade)\n",
    "- **Random Forest:** p-value = 4.2432e-11 (resíduos longe da normalidade)\n",
    "- **KNN:** p-value = 1.3457e-08 (resíduos ainda distantes da normalidade)\n",
    "- **Regressão Logística:** p-value = 0.1699 (resíduos razoavelmente próximos da normalidade)\n",
    "- **SVM:** p-value = 0.2865 (resíduos mais próximos da normalidade)\n",
    "- **Rede Neural:** p-value = 0.0001 (resíduos distantes da normalidade)"
   ]
  },
  {
   "cell_type": "code",
   "execution_count": 164,
   "metadata": {},
   "outputs": [
    {
     "data": {
      "text/plain": [
       "<seaborn.axisgrid.FacetGrid at 0x192c08fe3c0>"
      ]
     },
     "execution_count": 164,
     "metadata": {},
     "output_type": "execute_result"
    },
    {
     "data": {
      "image/png": "[encoded data removed]",
      "text/plain": [
       "<Figure size 500x500 with 1 Axes>"
      ]
     },
     "metadata": {},
     "output_type": "display_data"
    }
   ],
   "source": [
    "sns.displot(resultados_arvore, kind='kde', warn_singular=False)\n"
   ]
  },
  {
   "cell_type": "code",
   "execution_count": 165,
   "metadata": {},
   "outputs": [
    {
     "name": "stdout",
     "output_type": "stream",
     "text": [
      "    Resultados Árvore de Decisão\n",
      "0                       1.000000\n",
      "1                       1.000000\n",
      "2                       1.000000\n",
      "3                       1.000000\n",
      "4                       1.000000\n",
      "5                       1.000000\n",
      "6                       1.000000\n",
      "7                       1.000000\n",
      "8                       1.000000\n",
      "9                       1.000000\n",
      "10                      1.000000\n",
      "11                      1.000000\n",
      "12                      1.000000\n",
      "13                      0.999754\n",
      "14                      1.000000\n",
      "15                      1.000000\n",
      "16                      1.000000\n",
      "17                      1.000000\n",
      "18                      1.000000\n",
      "19                      1.000000\n",
      "20                      0.999507\n",
      "21                      1.000000\n",
      "22                      1.000000\n",
      "23                      1.000000\n",
      "24                      1.000000\n",
      "25                      1.000000\n",
      "26                      1.000000\n",
      "27                      1.000000\n",
      "28                      1.000000\n",
      "29                      1.000000\n"
     ]
    }
   ],
   "source": [
    "# Criar um DataFrame para organizar os resultados\n",
    "df_resultados_arvore = pd.DataFrame(resultados_arvore, columns=['Resultados Árvore de Decisão'])\n",
    "\n",
    "# Exibir o DataFrame em formato de tabela\n",
    "print(df_resultados_arvore)"
   ]
  },
  {
   "cell_type": "code",
   "execution_count": 166,
   "metadata": {},
   "outputs": [
    {
     "data": {
      "text/plain": [
       "<seaborn.axisgrid.FacetGrid at 0x192c5046bd0>"
      ]
     },
     "execution_count": 166,
     "metadata": {},
     "output_type": "execute_result"
    },
    {
     "data": {
      "image/png": "[encoded data removed]",
      "text/plain": [
       "<Figure size 500x500 with 1 Axes>"
      ]
     },
     "metadata": {},
     "output_type": "display_data"
    }
   ],
   "source": [
    "sns.displot(resultados_random_forest, kind= 'kde')"
   ]
  },
  {
   "cell_type": "code",
   "execution_count": 167,
   "metadata": {},
   "outputs": [
    {
     "name": "stdout",
     "output_type": "stream",
     "text": [
      "    Resultados Random Forest\n",
      "0                   1.000000\n",
      "1                   1.000000\n",
      "2                   1.000000\n",
      "3                   1.000000\n",
      "4                   1.000000\n",
      "5                   1.000000\n",
      "6                   0.999877\n",
      "7                   1.000000\n",
      "8                   1.000000\n",
      "9                   1.000000\n",
      "10                  1.000000\n",
      "11                  1.000000\n",
      "12                  1.000000\n",
      "13                  1.000000\n",
      "14                  1.000000\n",
      "15                  1.000000\n",
      "16                  1.000000\n",
      "17                  1.000000\n",
      "18                  1.000000\n",
      "19                  1.000000\n",
      "20                  0.999754\n",
      "21                  1.000000\n",
      "22                  1.000000\n",
      "23                  1.000000\n",
      "24                  1.000000\n",
      "25                  1.000000\n",
      "26                  1.000000\n",
      "27                  1.000000\n",
      "28                  1.000000\n",
      "29                  1.000000\n"
     ]
    }
   ],
   "source": [
    "# Criar um DataFrame para organizar os resultados\n",
    "df_resultados_random_forest = pd.DataFrame(resultados_random_forest, columns=['Resultados Random Forest'])\n",
    "\n",
    "# Exibir o DataFrame em formato de tabela\n",
    "print(df_resultados_random_forest)"
   ]
  },
  {
   "cell_type": "code",
   "execution_count": 168,
   "metadata": {},
   "outputs": [
    {
     "data": {
      "text/plain": [
       "<seaborn.axisgrid.FacetGrid at 0x192c0047d10>"
      ]
     },
     "execution_count": 168,
     "metadata": {},
     "output_type": "execute_result"
    },
    {
     "data": {
      "image/png": "[encoded data removed]",
      "text/plain": [
       "<Figure size 500x500 with 1 Axes>"
      ]
     },
     "metadata": {},
     "output_type": "display_data"
    }
   ],
   "source": [
    "sns.displot(resultados_knn, kind= 'kde')"
   ]
  },
  {
   "cell_type": "code",
   "execution_count": 169,
   "metadata": {},
   "outputs": [
    {
     "name": "stdout",
     "output_type": "stream",
     "text": [
      "    Resultados KNN\n",
      "0         0.999877\n",
      "1         0.999877\n",
      "2         0.999631\n",
      "3         1.000000\n",
      "4         1.000000\n",
      "5         1.000000\n",
      "6         1.000000\n",
      "7         1.000000\n",
      "8         1.000000\n",
      "9         1.000000\n",
      "10        1.000000\n",
      "11        1.000000\n",
      "12        1.000000\n",
      "13        1.000000\n",
      "14        1.000000\n",
      "15        1.000000\n",
      "16        1.000000\n",
      "17        1.000000\n",
      "18        1.000000\n",
      "19        1.000000\n",
      "20        0.999754\n",
      "21        1.000000\n",
      "22        1.000000\n",
      "23        0.999385\n",
      "24        1.000000\n",
      "25        0.999754\n",
      "26        1.000000\n",
      "27        1.000000\n",
      "28        0.999754\n",
      "29        1.000000\n"
     ]
    }
   ],
   "source": [
    "# Criar um DataFrame para organizar os resultados\n",
    "df_resultados_knn = pd.DataFrame(resultados_knn, columns=['Resultados KNN'])\n",
    "\n",
    "# Exibir o DataFrame em formato de tabela\n",
    "print(df_resultados_knn)"
   ]
  },
  {
   "cell_type": "code",
   "execution_count": 170,
   "metadata": {},
   "outputs": [
    {
     "data": {
      "text/plain": [
       "<seaborn.axisgrid.FacetGrid at 0x192c0a24920>"
      ]
     },
     "execution_count": 170,
     "metadata": {},
     "output_type": "execute_result"
    },
    {
     "data": {
      "image/png": "[encoded data removed]",
      "text/plain": [
       "<Figure size 500x500 with 1 Axes>"
      ]
     },
     "metadata": {},
     "output_type": "display_data"
    }
   ],
   "source": [
    "sns.displot(resultados_logistica, kind= 'kde')"
   ]
  },
  {
   "cell_type": "code",
   "execution_count": 171,
   "metadata": {},
   "outputs": [
    {
     "name": "stdout",
     "output_type": "stream",
     "text": [
      "    Resultados Regressão Logistica\n",
      "0                         0.876416\n",
      "1                         0.876416\n",
      "2                         0.876413\n",
      "3                         0.876417\n",
      "4                         0.876413\n",
      "5                         0.876416\n",
      "6                         0.876415\n",
      "7                         0.876418\n",
      "8                         0.876409\n",
      "9                         0.876413\n",
      "10                        0.876412\n",
      "11                        0.876413\n",
      "12                        0.876416\n",
      "13                        0.876417\n",
      "14                        0.876412\n",
      "15                        0.876412\n",
      "16                        0.876419\n",
      "17                        0.876415\n",
      "18                        0.876416\n",
      "19                        0.876413\n",
      "20                        0.876418\n",
      "21                        0.876418\n",
      "22                        0.876416\n",
      "23                        0.876411\n",
      "24                        0.876417\n",
      "25                        0.876415\n",
      "26                        0.876413\n",
      "27                        0.876415\n",
      "28                        0.876416\n",
      "29                        0.876416\n"
     ]
    }
   ],
   "source": [
    "# Criar um DataFrame para organizar os resultados\n",
    "df_resultados_logistica = pd.DataFrame(resultados_logistica, columns=['Resultados Regressão Logistica'])\n",
    "\n",
    "# Exibir o DataFrame em formato de tabela\n",
    "print(df_resultados_logistica)"
   ]
  },
  {
   "cell_type": "code",
   "execution_count": 172,
   "metadata": {},
   "outputs": [
    {
     "data": {
      "text/plain": [
       "<seaborn.axisgrid.FacetGrid at 0x192c0b7cce0>"
      ]
     },
     "execution_count": 172,
     "metadata": {},
     "output_type": "execute_result"
    },
    {
     "data": {
      "image/png": "[encoded data removed]",
      "text/plain": [
       "<Figure size 500x500 with 1 Axes>"
      ]
     },
     "metadata": {},
     "output_type": "display_data"
    }
   ],
   "source": [
    "sns.displot(resultados_svm, kind= 'kde')"
   ]
  },
  {
   "cell_type": "code",
   "execution_count": 173,
   "metadata": {},
   "outputs": [
    {
     "name": "stdout",
     "output_type": "stream",
     "text": [
      "    Resultados SVM\n",
      "0         0.990520\n",
      "1         0.990030\n",
      "2         0.990152\n",
      "3         0.989168\n",
      "4         0.988428\n",
      "5         0.990028\n",
      "6         0.992244\n",
      "7         0.991017\n",
      "8         0.989905\n",
      "9         0.990644\n",
      "10        0.991383\n",
      "11        0.991015\n",
      "12        0.988429\n",
      "13        0.990398\n",
      "14        0.988428\n",
      "15        0.991997\n",
      "16        0.991138\n",
      "17        0.989413\n",
      "18        0.991138\n",
      "19        0.992368\n",
      "20        0.989167\n",
      "21        0.991628\n",
      "22        0.991630\n",
      "23        0.991139\n",
      "24        0.990152\n",
      "25        0.990031\n",
      "26        0.988181\n",
      "27        0.991753\n",
      "28        0.989784\n",
      "29        0.991260\n"
     ]
    }
   ],
   "source": [
    "# Criar um DataFrame para organizar os resultados\n",
    "df_resultados_svm = pd.DataFrame(resultados_svm, columns=['Resultados SVM'])\n",
    "\n",
    "# Exibir o DataFrame em formato de tabela\n",
    "print(df_resultados_svm)"
   ]
  },
  {
   "cell_type": "code",
   "execution_count": 174,
   "metadata": {},
   "outputs": [
    {
     "data": {
      "text/plain": [
       "<seaborn.axisgrid.FacetGrid at 0x192c0b57260>"
      ]
     },
     "execution_count": 174,
     "metadata": {},
     "output_type": "execute_result"
    },
    {
     "data": {
      "image/png": "[encoded data removed]",
      "text/plain": [
       "<Figure size 500x500 with 1 Axes>"
      ]
     },
     "metadata": {},
     "output_type": "display_data"
    }
   ],
   "source": [
    "sns.displot(resultados_rede_neural, kind= 'kde')"
   ]
  },
  {
   "cell_type": "code",
   "execution_count": 175,
   "metadata": {},
   "outputs": [
    {
     "name": "stdout",
     "output_type": "stream",
     "text": [
      "    Resultados Redes Neurais\n",
      "0                   0.998892\n",
      "1                   0.999754\n",
      "2                   0.998646\n",
      "3                   0.999877\n",
      "4                   0.998769\n",
      "5                   0.999877\n",
      "6                   0.999631\n",
      "7                   0.999385\n",
      "8                   1.000000\n",
      "9                   0.999631\n",
      "10                  0.998523\n",
      "11                  1.000000\n",
      "12                  0.999877\n",
      "13                  0.999015\n",
      "14                  0.999385\n",
      "15                  0.999877\n",
      "16                  0.999754\n",
      "17                  0.999877\n",
      "18                  1.000000\n",
      "19                  1.000000\n",
      "20                  0.999631\n",
      "21                  0.999877\n",
      "22                  0.998277\n",
      "23                  1.000000\n",
      "24                  0.999508\n",
      "25                  0.999631\n",
      "26                  0.999631\n",
      "27                  0.999631\n",
      "28                  0.999754\n",
      "29                  0.999631\n"
     ]
    }
   ],
   "source": [
    "# Criar um DataFrame para organizar os resultados\n",
    "df_resultados_rede_neural = pd.DataFrame(resultados_rede_neural, columns=['Resultados Redes Neurais'])\n",
    "\n",
    "# Exibir o DataFrame em formato de tabela\n",
    "print(df_resultados_rede_neural)"
   ]
  },
  {
   "cell_type": "code",
   "execution_count": 116,
   "metadata": {},
   "outputs": [
    {
     "name": "stdout",
     "output_type": "stream",
     "text": [
      "Formato das tabelas de dados de treino (6499, 8) e teste (1625, 8)\n"
     ]
    }
   ],
   "source": [
    "# Separamos 20% para o teste\n",
    "entradas_treino, entradas_teste, categoria_treino, categoria_teste = train_test_split(entradas, categoria, test_size=0.2)\n",
    "\n",
    "print(f\"Formato das tabelas de dados de treino {entradas_treino.shape} e teste {entradas_teste.shape}\")"
   ]
  },
  {
   "cell_type": "code",
   "execution_count": 117,
   "metadata": {},
   "outputs": [
    {
     "data": {
      "text/html": [
       "<div>\n",
       "<style scoped>\n",
       "    .dataframe tbody tr th:only-of-type {\n",
       "        vertical-align: middle;\n",
       "    }\n",
       "\n",
       "    .dataframe tbody tr th {\n",
       "        vertical-align: top;\n",
       "    }\n",
       "\n",
       "    .dataframe thead th {\n",
       "        text-align: right;\n",
       "    }\n",
       "</style>\n",
       "<table border=\"1\" class=\"dataframe\">\n",
       "  <thead>\n",
       "    <tr style=\"text-align: right;\">\n",
       "      <th></th>\n",
       "      <th>forma-do-caule</th>\n",
       "      <th>raiz-do-caule</th>\n",
       "      <th>odor</th>\n",
       "      <th>habitat</th>\n",
       "      <th>cor-do-chapéu</th>\n",
       "      <th>forma-do-chapéu</th>\n",
       "      <th>número-do-anel</th>\n",
       "      <th>cor-do-velo</th>\n",
       "    </tr>\n",
       "  </thead>\n",
       "  <tbody>\n",
       "    <tr>\n",
       "      <th>4195</th>\n",
       "      <td>1</td>\n",
       "      <td>0</td>\n",
       "      <td>6</td>\n",
       "      <td>6</td>\n",
       "      <td>7</td>\n",
       "      <td>3</td>\n",
       "      <td>1</td>\n",
       "      <td>2</td>\n",
       "    </tr>\n",
       "    <tr>\n",
       "      <th>7737</th>\n",
       "      <td>0</td>\n",
       "      <td>6</td>\n",
       "      <td>6</td>\n",
       "      <td>1</td>\n",
       "      <td>0</td>\n",
       "      <td>4</td>\n",
       "      <td>1</td>\n",
       "      <td>0</td>\n",
       "    </tr>\n",
       "    <tr>\n",
       "      <th>4392</th>\n",
       "      <td>0</td>\n",
       "      <td>0</td>\n",
       "      <td>4</td>\n",
       "      <td>0</td>\n",
       "      <td>9</td>\n",
       "      <td>3</td>\n",
       "      <td>1</td>\n",
       "      <td>2</td>\n",
       "    </tr>\n",
       "    <tr>\n",
       "      <th>1920</th>\n",
       "      <td>1</td>\n",
       "      <td>0</td>\n",
       "      <td>6</td>\n",
       "      <td>6</td>\n",
       "      <td>7</td>\n",
       "      <td>2</td>\n",
       "      <td>1</td>\n",
       "      <td>2</td>\n",
       "    </tr>\n",
       "    <tr>\n",
       "      <th>411</th>\n",
       "      <td>1</td>\n",
       "      <td>3</td>\n",
       "      <td>6</td>\n",
       "      <td>0</td>\n",
       "      <td>0</td>\n",
       "      <td>2</td>\n",
       "      <td>1</td>\n",
       "      <td>2</td>\n",
       "    </tr>\n",
       "  </tbody>\n",
       "</table>\n",
       "</div>"
      ],
      "text/plain": [
       "      forma-do-caule  raiz-do-caule  odor  habitat  cor-do-chapéu  \\\n",
       "4195               1              0     6        6              7   \n",
       "7737               0              6     6        1              0   \n",
       "4392               0              0     4        0              9   \n",
       "1920               1              0     6        6              7   \n",
       "411                1              3     6        0              0   \n",
       "\n",
       "      forma-do-chapéu  número-do-anel  cor-do-velo  \n",
       "4195                3               1            2  \n",
       "7737                4               1            0  \n",
       "4392                3               1            2  \n",
       "1920                2               1            2  \n",
       "411                 2               1            2  "
      ]
     },
     "execution_count": 117,
     "metadata": {},
     "output_type": "execute_result"
    }
   ],
   "source": [
    "# Primeiras linhas do dataframe de entradas_treino\n",
    "entradas_treino.head()"
   ]
  },
  {
   "cell_type": "code",
   "execution_count": 118,
   "metadata": {},
   "outputs": [
    {
     "data": {
      "text/plain": [
       "4195    1\n",
       "7737    1\n",
       "4392    2\n",
       "1920    1\n",
       "411     1\n",
       "Name: classe, dtype: int64"
      ]
     },
     "execution_count": 118,
     "metadata": {},
     "output_type": "execute_result"
    }
   ],
   "source": [
    "# Primeiras linhas do dataframe de categoria_treino\n",
    "categoria_treino.head()"
   ]
  },
  {
   "cell_type": "code",
   "execution_count": 119,
   "metadata": {},
   "outputs": [
    {
     "data": {
      "text/html": [
       "<style>#sk-container-id-8 {\n",
       "  /* Definition of color scheme common for light and dark mode */\n",
       "  --sklearn-color-text: black;\n",
       "  --sklearn-color-line: gray;\n",
       "  /* Definition of color scheme for unfitted estimators */\n",
       "  --sklearn-color-unfitted-level-0: #fff5e6;\n",
       "  --sklearn-color-unfitted-level-1: #f6e4d2;\n",
       "  --sklearn-color-unfitted-level-2: #ffe0b3;\n",
       "  --sklearn-color-unfitted-level-3: chocolate;\n",
       "  /* Definition of color scheme for fitted estimators */\n",
       "  --sklearn-color-fitted-level-0: #f0f8ff;\n",
       "  --sklearn-color-fitted-level-1: #d4ebff;\n",
       "  --sklearn-color-fitted-level-2: #b3dbfd;\n",
       "  --sklearn-color-fitted-level-3: cornflowerblue;\n",
       "\n",
       "  /* Specific color for light theme */\n",
       "  --sklearn-color-text-on-default-background: var(--sg-text-color, var(--theme-code-foreground, var(--jp-content-font-color1, black)));\n",
       "  --sklearn-color-background: var(--sg-background-color, var(--theme-background, var(--jp-layout-color0, white)));\n",
       "  --sklearn-color-border-box: var(--sg-text-color, var(--theme-code-foreground, var(--jp-content-font-color1, black)));\n",
       "  --sklearn-color-icon: #696969;\n",
       "\n",
       "  @media (prefers-color-scheme: dark) {\n",
       "    /* Redefinition of color scheme for dark theme */\n",
       "    --sklearn-color-text-on-default-background: var(--sg-text-color, var(--theme-code-foreground, var(--jp-content-font-color1, white)));\n",
       "    --sklearn-color-background: var(--sg-background-color, var(--theme-background, var(--jp-layout-color0, #111)));\n",
       "    --sklearn-color-border-box: var(--sg-text-color, var(--theme-code-foreground, var(--jp-content-font-color1, white)));\n",
       "    --sklearn-color-icon: #878787;\n",
       "  }\n",
       "}\n",
       "\n",
       "#sk-container-id-8 {\n",
       "  color: var(--sklearn-color-text);\n",
       "}\n",
       "\n",
       "#sk-container-id-8 pre {\n",
       "  padding: 0;\n",
       "}\n",
       "\n",
       "#sk-container-id-8 input.sk-hidden--visually {\n",
       "  border: 0;\n",
       "  clip: rect(1px 1px 1px 1px);\n",
       "  clip: rect(1px, 1px, 1px, 1px);\n",
       "  height: 1px;\n",
       "  margin: -1px;\n",
       "  overflow: hidden;\n",
       "  padding: 0;\n",
       "  position: absolute;\n",
       "  width: 1px;\n",
       "}\n",
       "\n",
       "#sk-container-id-8 div.sk-dashed-wrapped {\n",
       "  border: 1px dashed var(--sklearn-color-line);\n",
       "  margin: 0 0.4em 0.5em 0.4em;\n",
       "  box-sizing: border-box;\n",
       "  padding-bottom: 0.4em;\n",
       "  background-color: var(--sklearn-color-background);\n",
       "}\n",
       "\n",
       "#sk-container-id-8 div.sk-container {\n",
       "  /* jupyter's `normalize.less` sets `[hidden] { display: none; }`\n",
       "     but bootstrap.min.css set `[hidden] { display: none !important; }`\n",
       "     so we also need the `!important` here to be able to override the\n",
       "     default hidden behavior on the sphinx rendered scikit-learn.org.\n",
       "     See: https://github.com/scikit-learn/scikit-learn/issues/21755 */\n",
       "  display: inline-block !important;\n",
       "  position: relative;\n",
       "}\n",
       "\n",
       "#sk-container-id-8 div.sk-text-repr-fallback {\n",
       "  display: none;\n",
       "}\n",
       "\n",
       "div.sk-parallel-item,\n",
       "div.sk-serial,\n",
       "div.sk-item {\n",
       "  /* draw centered vertical line to link estimators */\n",
       "  background-image: linear-gradient(var(--sklearn-color-text-on-default-background), var(--sklearn-color-text-on-default-background));\n",
       "  background-size: 2px 100%;\n",
       "  background-repeat: no-repeat;\n",
       "  background-position: center center;\n",
       "}\n",
       "\n",
       "/* Parallel-specific style estimator block */\n",
       "\n",
       "#sk-container-id-8 div.sk-parallel-item::after {\n",
       "  content: \"\";\n",
       "  width: 100%;\n",
       "  border-bottom: 2px solid var(--sklearn-color-text-on-default-background);\n",
       "  flex-grow: 1;\n",
       "}\n",
       "\n",
       "#sk-container-id-8 div.sk-parallel {\n",
       "  display: flex;\n",
       "  align-items: stretch;\n",
       "  justify-content: center;\n",
       "  background-color: var(--sklearn-color-background);\n",
       "  position: relative;\n",
       "}\n",
       "\n",
       "#sk-container-id-8 div.sk-parallel-item {\n",
       "  display: flex;\n",
       "  flex-direction: column;\n",
       "}\n",
       "\n",
       "#sk-container-id-8 div.sk-parallel-item:first-child::after {\n",
       "  align-self: flex-end;\n",
       "  width: 50%;\n",
       "}\n",
       "\n",
       "#sk-container-id-8 div.sk-parallel-item:last-child::after {\n",
       "  align-self: flex-start;\n",
       "  width: 50%;\n",
       "}\n",
       "\n",
       "#sk-container-id-8 div.sk-parallel-item:only-child::after {\n",
       "  width: 0;\n",
       "}\n",
       "\n",
       "/* Serial-specific style estimator block */\n",
       "\n",
       "#sk-container-id-8 div.sk-serial {\n",
       "  display: flex;\n",
       "  flex-direction: column;\n",
       "  align-items: center;\n",
       "  background-color: var(--sklearn-color-background);\n",
       "  padding-right: 1em;\n",
       "  padding-left: 1em;\n",
       "}\n",
       "\n",
       "\n",
       "/* Toggleable style: style used for estimator/Pipeline/ColumnTransformer box that is\n",
       "clickable and can be expanded/collapsed.\n",
       "- Pipeline and ColumnTransformer use this feature and define the default style\n",
       "- Estimators will overwrite some part of the style using the `sk-estimator` class\n",
       "*/\n",
       "\n",
       "/* Pipeline and ColumnTransformer style (default) */\n",
       "\n",
       "#sk-container-id-8 div.sk-toggleable {\n",
       "  /* Default theme specific background. It is overwritten whether we have a\n",
       "  specific estimator or a Pipeline/ColumnTransformer */\n",
       "  background-color: var(--sklearn-color-background);\n",
       "}\n",
       "\n",
       "/* Toggleable label */\n",
       "#sk-container-id-8 label.sk-toggleable__label {\n",
       "  cursor: pointer;\n",
       "  display: block;\n",
       "  width: 100%;\n",
       "  margin-bottom: 0;\n",
       "  padding: 0.5em;\n",
       "  box-sizing: border-box;\n",
       "  text-align: center;\n",
       "}\n",
       "\n",
       "#sk-container-id-8 label.sk-toggleable__label-arrow:before {\n",
       "  /* Arrow on the left of the label */\n",
       "  content: \"▸\";\n",
       "  float: left;\n",
       "  margin-right: 0.25em;\n",
       "  color: var(--sklearn-color-icon);\n",
       "}\n",
       "\n",
       "#sk-container-id-8 label.sk-toggleable__label-arrow:hover:before {\n",
       "  color: var(--sklearn-color-text);\n",
       "}\n",
       "\n",
       "/* Toggleable content - dropdown */\n",
       "\n",
       "#sk-container-id-8 div.sk-toggleable__content {\n",
       "  max-height: 0;\n",
       "  max-width: 0;\n",
       "  overflow: hidden;\n",
       "  text-align: left;\n",
       "  /* unfitted */\n",
       "  background-color: var(--sklearn-color-unfitted-level-0);\n",
       "}\n",
       "\n",
       "#sk-container-id-8 div.sk-toggleable__content.fitted {\n",
       "  /* fitted */\n",
       "  background-color: var(--sklearn-color-fitted-level-0);\n",
       "}\n",
       "\n",
       "#sk-container-id-8 div.sk-toggleable__content pre {\n",
       "  margin: 0.2em;\n",
       "  border-radius: 0.25em;\n",
       "  color: var(--sklearn-color-text);\n",
       "  /* unfitted */\n",
       "  background-color: var(--sklearn-color-unfitted-level-0);\n",
       "}\n",
       "\n",
       "#sk-container-id-8 div.sk-toggleable__content.fitted pre {\n",
       "  /* unfitted */\n",
       "  background-color: var(--sklearn-color-fitted-level-0);\n",
       "}\n",
       "\n",
       "#sk-container-id-8 input.sk-toggleable__control:checked~div.sk-toggleable__content {\n",
       "  /* Expand drop-down */\n",
       "  max-height: 200px;\n",
       "  max-width: 100%;\n",
       "  overflow: auto;\n",
       "}\n",
       "\n",
       "#sk-container-id-8 input.sk-toggleable__control:checked~label.sk-toggleable__label-arrow:before {\n",
       "  content: \"▾\";\n",
       "}\n",
       "\n",
       "/* Pipeline/ColumnTransformer-specific style */\n",
       "\n",
       "#sk-container-id-8 div.sk-label input.sk-toggleable__control:checked~label.sk-toggleable__label {\n",
       "  color: var(--sklearn-color-text);\n",
       "  background-color: var(--sklearn-color-unfitted-level-2);\n",
       "}\n",
       "\n",
       "#sk-container-id-8 div.sk-label.fitted input.sk-toggleable__control:checked~label.sk-toggleable__label {\n",
       "  background-color: var(--sklearn-color-fitted-level-2);\n",
       "}\n",
       "\n",
       "/* Estimator-specific style */\n",
       "\n",
       "/* Colorize estimator box */\n",
       "#sk-container-id-8 div.sk-estimator input.sk-toggleable__control:checked~label.sk-toggleable__label {\n",
       "  /* unfitted */\n",
       "  background-color: var(--sklearn-color-unfitted-level-2);\n",
       "}\n",
       "\n",
       "#sk-container-id-8 div.sk-estimator.fitted input.sk-toggleable__control:checked~label.sk-toggleable__label {\n",
       "  /* fitted */\n",
       "  background-color: var(--sklearn-color-fitted-level-2);\n",
       "}\n",
       "\n",
       "#sk-container-id-8 div.sk-label label.sk-toggleable__label,\n",
       "#sk-container-id-8 div.sk-label label {\n",
       "  /* The background is the default theme color */\n",
       "  color: var(--sklearn-color-text-on-default-background);\n",
       "}\n",
       "\n",
       "/* On hover, darken the color of the background */\n",
       "#sk-container-id-8 div.sk-label:hover label.sk-toggleable__label {\n",
       "  color: var(--sklearn-color-text);\n",
       "  background-color: var(--sklearn-color-unfitted-level-2);\n",
       "}\n",
       "\n",
       "/* Label box, darken color on hover, fitted */\n",
       "#sk-container-id-8 div.sk-label.fitted:hover label.sk-toggleable__label.fitted {\n",
       "  color: var(--sklearn-color-text);\n",
       "  background-color: var(--sklearn-color-fitted-level-2);\n",
       "}\n",
       "\n",
       "/* Estimator label */\n",
       "\n",
       "#sk-container-id-8 div.sk-label label {\n",
       "  font-family: monospace;\n",
       "  font-weight: bold;\n",
       "  display: inline-block;\n",
       "  line-height: 1.2em;\n",
       "}\n",
       "\n",
       "#sk-container-id-8 div.sk-label-container {\n",
       "  text-align: center;\n",
       "}\n",
       "\n",
       "/* Estimator-specific */\n",
       "#sk-container-id-8 div.sk-estimator {\n",
       "  font-family: monospace;\n",
       "  border: 1px dotted var(--sklearn-color-border-box);\n",
       "  border-radius: 0.25em;\n",
       "  box-sizing: border-box;\n",
       "  margin-bottom: 0.5em;\n",
       "  /* unfitted */\n",
       "  background-color: var(--sklearn-color-unfitted-level-0);\n",
       "}\n",
       "\n",
       "#sk-container-id-8 div.sk-estimator.fitted {\n",
       "  /* fitted */\n",
       "  background-color: var(--sklearn-color-fitted-level-0);\n",
       "}\n",
       "\n",
       "/* on hover */\n",
       "#sk-container-id-8 div.sk-estimator:hover {\n",
       "  /* unfitted */\n",
       "  background-color: var(--sklearn-color-unfitted-level-2);\n",
       "}\n",
       "\n",
       "#sk-container-id-8 div.sk-estimator.fitted:hover {\n",
       "  /* fitted */\n",
       "  background-color: var(--sklearn-color-fitted-level-2);\n",
       "}\n",
       "\n",
       "/* Specification for estimator info (e.g. \"i\" and \"?\") */\n",
       "\n",
       "/* Common style for \"i\" and \"?\" */\n",
       "\n",
       ".sk-estimator-doc-link,\n",
       "a:link.sk-estimator-doc-link,\n",
       "a:visited.sk-estimator-doc-link {\n",
       "  float: right;\n",
       "  font-size: smaller;\n",
       "  line-height: 1em;\n",
       "  font-family: monospace;\n",
       "  background-color: var(--sklearn-color-background);\n",
       "  border-radius: 1em;\n",
       "  height: 1em;\n",
       "  width: 1em;\n",
       "  text-decoration: none !important;\n",
       "  margin-left: 1ex;\n",
       "  /* unfitted */\n",
       "  border: var(--sklearn-color-unfitted-level-1) 1pt solid;\n",
       "  color: var(--sklearn-color-unfitted-level-1);\n",
       "}\n",
       "\n",
       ".sk-estimator-doc-link.fitted,\n",
       "a:link.sk-estimator-doc-link.fitted,\n",
       "a:visited.sk-estimator-doc-link.fitted {\n",
       "  /* fitted */\n",
       "  border: var(--sklearn-color-fitted-level-1) 1pt solid;\n",
       "  color: var(--sklearn-color-fitted-level-1);\n",
       "}\n",
       "\n",
       "/* On hover */\n",
       "div.sk-estimator:hover .sk-estimator-doc-link:hover,\n",
       ".sk-estimator-doc-link:hover,\n",
       "div.sk-label-container:hover .sk-estimator-doc-link:hover,\n",
       ".sk-estimator-doc-link:hover {\n",
       "  /* unfitted */\n",
       "  background-color: var(--sklearn-color-unfitted-level-3);\n",
       "  color: var(--sklearn-color-background);\n",
       "  text-decoration: none;\n",
       "}\n",
       "\n",
       "div.sk-estimator.fitted:hover .sk-estimator-doc-link.fitted:hover,\n",
       ".sk-estimator-doc-link.fitted:hover,\n",
       "div.sk-label-container:hover .sk-estimator-doc-link.fitted:hover,\n",
       ".sk-estimator-doc-link.fitted:hover {\n",
       "  /* fitted */\n",
       "  background-color: var(--sklearn-color-fitted-level-3);\n",
       "  color: var(--sklearn-color-background);\n",
       "  text-decoration: none;\n",
       "}\n",
       "\n",
       "/* Span, style for the box shown on hovering the info icon */\n",
       ".sk-estimator-doc-link span {\n",
       "  display: none;\n",
       "  z-index: 9999;\n",
       "  position: relative;\n",
       "  font-weight: normal;\n",
       "  right: .2ex;\n",
       "  padding: .5ex;\n",
       "  margin: .5ex;\n",
       "  width: min-content;\n",
       "  min-width: 20ex;\n",
       "  max-width: 50ex;\n",
       "  color: var(--sklearn-color-text);\n",
       "  box-shadow: 2pt 2pt 4pt #999;\n",
       "  /* unfitted */\n",
       "  background: var(--sklearn-color-unfitted-level-0);\n",
       "  border: .5pt solid var(--sklearn-color-unfitted-level-3);\n",
       "}\n",
       "\n",
       ".sk-estimator-doc-link.fitted span {\n",
       "  /* fitted */\n",
       "  background: var(--sklearn-color-fitted-level-0);\n",
       "  border: var(--sklearn-color-fitted-level-3);\n",
       "}\n",
       "\n",
       ".sk-estimator-doc-link:hover span {\n",
       "  display: block;\n",
       "}\n",
       "\n",
       "/* \"?\"-specific style due to the `<a>` HTML tag */\n",
       "\n",
       "#sk-container-id-8 a.estimator_doc_link {\n",
       "  float: right;\n",
       "  font-size: 1rem;\n",
       "  line-height: 1em;\n",
       "  font-family: monospace;\n",
       "  background-color: var(--sklearn-color-background);\n",
       "  border-radius: 1rem;\n",
       "  height: 1rem;\n",
       "  width: 1rem;\n",
       "  text-decoration: none;\n",
       "  /* unfitted */\n",
       "  color: var(--sklearn-color-unfitted-level-1);\n",
       "  border: var(--sklearn-color-unfitted-level-1) 1pt solid;\n",
       "}\n",
       "\n",
       "#sk-container-id-8 a.estimator_doc_link.fitted {\n",
       "  /* fitted */\n",
       "  border: var(--sklearn-color-fitted-level-1) 1pt solid;\n",
       "  color: var(--sklearn-color-fitted-level-1);\n",
       "}\n",
       "\n",
       "/* On hover */\n",
       "#sk-container-id-8 a.estimator_doc_link:hover {\n",
       "  /* unfitted */\n",
       "  background-color: var(--sklearn-color-unfitted-level-3);\n",
       "  color: var(--sklearn-color-background);\n",
       "  text-decoration: none;\n",
       "}\n",
       "\n",
       "#sk-container-id-8 a.estimator_doc_link.fitted:hover {\n",
       "  /* fitted */\n",
       "  background-color: var(--sklearn-color-fitted-level-3);\n",
       "}\n",
       "</style><div id=\"sk-container-id-8\" class=\"sk-top-container\"><div class=\"sk-text-repr-fallback\"><pre>SVC()</pre><b>In a Jupyter environment, please rerun this cell to show the HTML representation or trust the notebook. <br />On GitHub, the HTML representation is unable to render, please try loading this page with nbviewer.org.</b></div><div class=\"sk-container\" hidden><div class=\"sk-item\"><div class=\"sk-estimator fitted sk-toggleable\"><input class=\"sk-toggleable__control sk-hidden--visually\" id=\"sk-estimator-id-8\" type=\"checkbox\" checked><label for=\"sk-estimator-id-8\" class=\"sk-toggleable__label fitted sk-toggleable__label-arrow fitted\">&nbsp;&nbsp;SVC<a class=\"sk-estimator-doc-link fitted\" rel=\"noreferrer\" target=\"_blank\" href=\"https://scikit-learn.org/1.5/modules/generated/sklearn.svm.SVC.html\">?<span>Documentation for SVC</span></a><span class=\"sk-estimator-doc-link fitted\">i<span>Fitted</span></span></label><div class=\"sk-toggleable__content fitted\"><pre>SVC()</pre></div> </div></div></div></div>"
      ],
      "text/plain": [
       "SVC()"
      ]
     },
     "execution_count": 119,
     "metadata": {},
     "output_type": "execute_result"
    }
   ],
   "source": [
    "# Criando e treinando o modelo SVM\n",
    "modelo_svm = SVC(C=1.0, kernel='rbf', tol=0.001)  # Esses são os melhores hiperparâmetros que você encontrou\n",
    "modelo_svm.fit(entradas_treino, categoria_treino)\n"
   ]
  },
  {
   "cell_type": "code",
   "execution_count": 120,
   "metadata": {},
   "outputs": [
    {
     "name": "stdout",
     "output_type": "stream",
     "text": [
      "Predição: [2 1 1 ... 1 1 2]\n"
     ]
    }
   ],
   "source": [
    "# Certifique-se de que o modelo foi treinado\n",
    "categoria_encontradas = modelo_svm.predict(entradas_teste)\n",
    "print(\"Predição: {}\".format(categoria_encontradas))"
   ]
  },
  {
   "cell_type": "code",
   "execution_count": 121,
   "metadata": {},
   "outputs": [
    {
     "name": "stdout",
     "output_type": "stream",
     "text": [
      "Acerto médio de classificação:  0.9926153846153846\n"
     ]
    }
   ],
   "source": [
    "# Para determinar a quantidade de acertos (acuracia)\n",
    "acertos = accuracy_score(categoria_teste, categoria_encontradas)\n",
    "print(\"Acerto médio de classificação: \", acertos)"
   ]
  },
  {
   "cell_type": "code",
   "execution_count": 122,
   "metadata": {},
   "outputs": [
    {
     "data": {
      "image/png": "[encoded data removed]",
      "text/plain": [
       "<Figure size 640x480 with 2 Axes>"
      ]
     },
     "metadata": {},
     "output_type": "display_data"
    }
   ],
   "source": [
    "from sklearn.metrics import ConfusionMatrixDisplay\n",
    "from sklearn.metrics import confusion_matrix\n",
    "\n",
    "# Gerar a matriz de confusão\n",
    "matriz_confusao = confusion_matrix(categoria_teste, categoria_encontradas)\n",
    "\n",
    "# Exibir a matriz de confusão usando ConfusionMatrixDisplay\n",
    "disp = ConfusionMatrixDisplay(confusion_matrix=matriz_confusao)\n",
    "disp.plot(cmap='Blues')\n",
    "plt.title('Matriz de Confusão - SVM')\n",
    "plt.show()"
   ]
  },
  {
   "cell_type": "markdown",
   "metadata": {},
   "source": [
    "#### **Testando classificação da categoria do cogumelo, se será (COMESTÍVEL = 1) ou (VENENOSO = 2)**\n",
    "\n",
    "### No modelo de teste inserimos os seguintes dados para análise:\n",
    "\n",
    "- Forma do Caule (1 = t): Afunilando – o caule se afunila à medida que cresce.\n",
    "\n",
    "- Raiz do Caule (4 = r): Enraizado – base do caule está fortemente enraizada.\n",
    "\n",
    "- Odor (2 = l): Anis – odor semelhante a anis.\n",
    "\n",
    "- Habitat (4 = u): Urbano – encontrado em áreas urbanas.\n",
    "\n",
    "- Cor do Chapéu (1 = b): Creme – chapéu de cor creme.\n",
    "\n",
    "- Forma do Chapéu (1 = c): Cônico – chapéu com formato cônico.\n",
    "\n",
    "- Número do Anel (3 = t): Dois – possui dois anéis no caule.\n",
    "\n",
    "- Cor do Velo (2 = w): Branco – cor do velo é branca."
   ]
  },
  {
   "cell_type": "code",
   "execution_count": 123,
   "metadata": {},
   "outputs": [
    {
     "name": "stdout",
     "output_type": "stream",
     "text": [
      "Previsão: [1]\n"
     ]
    }
   ],
   "source": [
    "# Teste 1\n",
    "Test = pd.DataFrame([[1, 4, 2, 4, 1, 1, 3, 2]], columns=['forma-do-caule', 'raiz-do-caule', 'odor','habitat', 'cor-do-chapéu', 'forma-do-chapéu', 'número-do-anel','cor-do-velo'])\n",
    "previsao = modelo_svm.predict(Test)\n",
    "print(\"Previsão:\", previsao)"
   ]
  },
  {
   "cell_type": "markdown",
   "metadata": {},
   "source": [
    "#### **Testando classificação da categoria do cogumelo, se será (COMESTÍVEL = 1) ou (VENENOSO = 2)**\n",
    "\n",
    "### No modelo de teste inserimos os seguintes dados para análise:\n",
    "\n",
    "- Forma do Caule (0 = e): Alargando – o caule se alarga à medida que cresce.\n",
    "\n",
    "- Raiz do Caule (0 = b): Bulbosa – base do caule em formato de bulbo.\n",
    "\n",
    "- Odor (5 = m): Mofado – odor de mofo.\n",
    "\n",
    "- Habitat (4 = u): Urbano – encontrado em áreas urbanas.\n",
    "\n",
    "- Cor do Chapéu (4 = e): Verde – chapéu esverdeado.\n",
    "\n",
    "- Forma do Chapéu (0 = b): Sino – chapéu em forma de sino.\n",
    "\n",
    "- Número do Anel (0 = n): Nenhum – sem anéis no caule.\n",
    "\n",
    "- Cor do Velo (1 = o): Laranja – cor do velo é laranja."
   ]
  },
  {
   "cell_type": "code",
   "execution_count": 124,
   "metadata": {},
   "outputs": [
    {
     "name": "stdout",
     "output_type": "stream",
     "text": [
      "Previsão: [2]\n"
     ]
    }
   ],
   "source": [
    "# Teste 2\n",
    "Test = pd.DataFrame([[0, 0, 5, 4, 4, 0, 0, 1]], columns=['forma-do-caule', 'raiz-do-caule', 'odor','habitat', 'cor-do-chapéu', 'forma-do-chapéu', 'número-do-anel','cor-do-velo'])\n",
    "previsao = modelo_svm.predict(Test)\n",
    "print(\"Previsão:\", previsao)"
   ]
  },
  {
   "cell_type": "code",
   "execution_count": 127,
   "metadata": {},
   "outputs": [
    {
     "data": {
      "text/plain": [
       "['modelo_svm.pkl']"
      ]
     },
     "execution_count": 127,
     "metadata": {},
     "output_type": "execute_result"
    }
   ],
   "source": [
    "# Salva o modelo treinado\n",
    "joblib.dump(modelo_svm, 'modelo_svm.pkl')"
   ]
  }
 ],
 "metadata": {
  "kernelspec": {
   "display_name": "base",
   "language": "python",
   "name": "python3"
  },
  "language_info": {
   "codemirror_mode": {
    "name": "ipython",
    "version": 3
   },
   "file_extension": ".py",
   "mimetype": "text/x-python",
   "name": "python",
   "nbconvert_exporter": "python",
   "pygments_lexer": "ipython3",
   "version": "3.12.5"
  }
 },
 "nbformat": 4,
 "nbformat_minor": 2
}
