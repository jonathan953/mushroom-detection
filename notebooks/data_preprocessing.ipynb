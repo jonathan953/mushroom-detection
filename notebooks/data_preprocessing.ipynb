{
 "cells": [
  {
   "cell_type": "code",
   "execution_count": 4,
   "metadata": {},
   "outputs": [],
   "source": [
    "import joblib\n",
    "import pandas as pd\n",
    "\n",
    "# Caminho relativo a partir do diretório onde o script está localizado\n",
    "df = joblib.load('../data/processed/dados_processados.pkl')\n",
    "\n"
   ]
  },
  {
   "cell_type": "code",
   "execution_count": 232,
   "metadata": {},
   "outputs": [
    {
     "name": "stdout",
     "output_type": "stream",
     "text": [
      "Formato das tabelas de dados (8124, 8) e características dos cogumelos (8124,)\n"
     ]
    }
   ],
   "source": [
    "# Selecionando as features que mais correlacionam\n",
    "entradas = df[['forma-do-caule', 'raiz-do-caule', 'odor','habitat', 'cor-do-chapéu', 'forma-do-chapéu', 'número-do-anel','cor-do-velo']]\n",
    "categoria = df['classe']\n",
    "print(f\"Formato das tabelas de dados {entradas.shape} e características dos cogumelos {categoria.shape}\")"
   ]
  },
  {
   "cell_type": "code",
   "execution_count": 233,
   "metadata": {},
   "outputs": [
    {
     "name": "stdout",
     "output_type": "stream",
     "text": [
      "Formato das tabelas de dados de treino (6499, 8) e teste (1625, 8)\n"
     ]
    }
   ],
   "source": [
    "# Separamos 20% para o teste\n",
    "from sklearn.model_selection import train_test_split\n",
    "\n",
    "entradas_treino, entradas_teste, categoria_treino, categoria_teste = train_test_split(entradas, categoria, test_size=0.2)\n",
    "\n",
    "print(f\"Formato das tabelas de dados de treino {entradas_treino.shape} e teste {entradas_teste.shape}\")"
   ]
  },
  {
   "cell_type": "code",
   "execution_count": 234,
   "metadata": {},
   "outputs": [
    {
     "data": {
      "text/html": [
       "<div>\n",
       "<style scoped>\n",
       "    .dataframe tbody tr th:only-of-type {\n",
       "        vertical-align: middle;\n",
       "    }\n",
       "\n",
       "    .dataframe tbody tr th {\n",
       "        vertical-align: top;\n",
       "    }\n",
       "\n",
       "    .dataframe thead th {\n",
       "        text-align: right;\n",
       "    }\n",
       "</style>\n",
       "<table border=\"1\" class=\"dataframe\">\n",
       "  <thead>\n",
       "    <tr style=\"text-align: right;\">\n",
       "      <th></th>\n",
       "      <th>forma-do-caule</th>\n",
       "      <th>raiz-do-caule</th>\n",
       "      <th>odor</th>\n",
       "      <th>habitat</th>\n",
       "      <th>cor-do-chapéu</th>\n",
       "      <th>forma-do-chapéu</th>\n",
       "      <th>número-do-anel</th>\n",
       "      <th>cor-do-velo</th>\n",
       "    </tr>\n",
       "  </thead>\n",
       "  <tbody>\n",
       "    <tr>\n",
       "      <th>5112</th>\n",
       "      <td>0</td>\n",
       "      <td>0</td>\n",
       "      <td>4</td>\n",
       "      <td>3</td>\n",
       "      <td>9</td>\n",
       "      <td>3</td>\n",
       "      <td>1</td>\n",
       "      <td>2</td>\n",
       "    </tr>\n",
       "    <tr>\n",
       "      <th>7277</th>\n",
       "      <td>1</td>\n",
       "      <td>6</td>\n",
       "      <td>3</td>\n",
       "      <td>1</td>\n",
       "      <td>7</td>\n",
       "      <td>4</td>\n",
       "      <td>1</td>\n",
       "      <td>2</td>\n",
       "    </tr>\n",
       "    <tr>\n",
       "      <th>6803</th>\n",
       "      <td>1</td>\n",
       "      <td>6</td>\n",
       "      <td>4</td>\n",
       "      <td>1</td>\n",
       "      <td>7</td>\n",
       "      <td>3</td>\n",
       "      <td>1</td>\n",
       "      <td>2</td>\n",
       "    </tr>\n",
       "    <tr>\n",
       "      <th>3415</th>\n",
       "      <td>1</td>\n",
       "      <td>0</td>\n",
       "      <td>6</td>\n",
       "      <td>6</td>\n",
       "      <td>7</td>\n",
       "      <td>3</td>\n",
       "      <td>1</td>\n",
       "      <td>2</td>\n",
       "    </tr>\n",
       "    <tr>\n",
       "      <th>7645</th>\n",
       "      <td>1</td>\n",
       "      <td>6</td>\n",
       "      <td>8</td>\n",
       "      <td>3</td>\n",
       "      <td>7</td>\n",
       "      <td>4</td>\n",
       "      <td>1</td>\n",
       "      <td>2</td>\n",
       "    </tr>\n",
       "  </tbody>\n",
       "</table>\n",
       "</div>"
      ],
      "text/plain": [
       "      forma-do-caule  raiz-do-caule  odor  habitat  cor-do-chapéu  \\\n",
       "5112               0              0     4        3              9   \n",
       "7277               1              6     3        1              7   \n",
       "6803               1              6     4        1              7   \n",
       "3415               1              0     6        6              7   \n",
       "7645               1              6     8        3              7   \n",
       "\n",
       "      forma-do-chapéu  número-do-anel  cor-do-velo  \n",
       "5112                3               1            2  \n",
       "7277                4               1            2  \n",
       "6803                3               1            2  \n",
       "3415                3               1            2  \n",
       "7645                4               1            2  "
      ]
     },
     "execution_count": 234,
     "metadata": {},
     "output_type": "execute_result"
    }
   ],
   "source": [
    "# Primeiras linhas do dataframe de entradas_treino\n",
    "entradas_treino.head()"
   ]
  },
  {
   "cell_type": "code",
   "execution_count": 235,
   "metadata": {},
   "outputs": [
    {
     "data": {
      "text/plain": [
       "5112    2\n",
       "7277    2\n",
       "6803    2\n",
       "3415    1\n",
       "7645    2\n",
       "Name: classe, dtype: int64"
      ]
     },
     "execution_count": 235,
     "metadata": {},
     "output_type": "execute_result"
    }
   ],
   "source": [
    "# Primeiras linhas do dataframe de categoria_treino\n",
    "categoria_treino.head()"
   ]
  },
  {
   "cell_type": "code",
   "execution_count": 236,
   "metadata": {},
   "outputs": [
    {
     "data": {
      "text/plain": [
       "KNeighborsClassifier(n_neighbors=3)"
      ]
     },
     "execution_count": 236,
     "metadata": {},
     "output_type": "execute_result"
    }
   ],
   "source": [
    "# Importa a biblioteca\n",
    "from sklearn.neighbors import KNeighborsClassifier\n",
    "\n",
    "# Cria o classificador KNN\n",
    "k = 3\n",
    "modelo = KNeighborsClassifier(n_neighbors=k)\n",
    "\n",
    "# Cria o modelo de machine learning\n",
    "modelo.fit(entradas_treino, categoria_treino)"
   ]
  },
  {
   "cell_type": "code",
   "execution_count": 237,
   "metadata": {},
   "outputs": [
    {
     "name": "stdout",
     "output_type": "stream",
     "text": [
      "Predição: [1 2 1 ... 2 1 1]\n"
     ]
    }
   ],
   "source": [
    "import warnings\n",
    "warnings.filterwarnings(\"ignore\", category=FutureWarning)\n",
    "# Para obter as previsões, basta chamar o método predict()\n",
    "categoria_encontradas = modelo.predict(entradas_teste)\n",
    "print(\"Predição: {}\".format(categoria_encontradas))"
   ]
  },
  {
   "cell_type": "code",
   "execution_count": 238,
   "metadata": {},
   "outputs": [
    {
     "name": "stdout",
     "output_type": "stream",
     "text": [
      "Acerto médio de classificação:  1.0\n"
     ]
    }
   ],
   "source": [
    "# Para determinar a quantidade de acertos (acuracia)\n",
    "from sklearn.metrics import accuracy_score\n",
    "acertos = accuracy_score(categoria_teste, categoria_encontradas)\n",
    "print(\"Acerto médio de classificação: \", acertos)"
   ]
  },
  {
   "cell_type": "code",
   "execution_count": 239,
   "metadata": {},
   "outputs": [
    {
     "data": {
      "image/png": "[encoded data removed]",
      "text/plain": [
       "<Figure size 640x480 with 1 Axes>"
      ]
     },
     "metadata": {},
     "output_type": "display_data"
    }
   ],
   "source": [
    "import warnings\n",
    "warnings.filterwarnings(\"ignore\", category=FutureWarning)\n",
    "\n",
    "import matplotlib.pyplot as plt\n",
    "from sklearn.neighbors import KNeighborsClassifier\n",
    "from sklearn.metrics import accuracy_score\n",
    "\n",
    "# Definir o intervalo de valores para k\n",
    "k_range = list(range(1, 26))\n",
    "acertos = []\n",
    "\n",
    "# Loop para testar diferentes valores de k\n",
    "for k in k_range:\n",
    "    modelo = KNeighborsClassifier(n_neighbors=k)\n",
    "    modelo.fit(entradas_treino, categoria_treino)\n",
    "    categoria_encontradas = modelo.predict(entradas_teste)\n",
    "    acertos.append(accuracy_score(categoria_teste, categoria_encontradas))\n",
    "\n",
    "# Plotar a taxa de acertos em função do valor de k\n",
    "plt.plot(k_range, acertos, marker='o')\n",
    "plt.xlabel('Valor de k do KNN')\n",
    "plt.ylabel('Taxa de acertos')\n",
    "plt.title('Taxa de acertos x valor de k do KNN')\n",
    "plt.show()\n"
   ]
  },
  {
   "cell_type": "markdown",
   "metadata": {},
   "source": [
    "#### **Testando classificação da categoria do cogumelo, se será (COMESTÍVEL = 1) ou (VENENOSO = 2)**\n",
    "\n",
    "### No modelo de teste inserimos os seguintes dados para análise:\n",
    "\n",
    "forma-do-caule - (1 = t)  = afunilando\n",
    "\n",
    "raiz-do-caule - (2 = u) = copo\n",
    "\n",
    "odor - (0 = a) = amêndoa\n",
    "\n",
    "habitat - (3 = p) = trilhas\n",
    "\n",
    "cor-do-chapéu - (1 = b) = creme\n",
    "\n",
    "forma-do-chapéu - (3 = f) = plano\n",
    "\n",
    "número-do-anel - (0 = n) = nenhum\n",
    "\n",
    "cor-do-velo - (3 = y) = amarelo\n",
    "\n"
   ]
  },
  {
   "cell_type": "code",
   "execution_count": 240,
   "metadata": {},
   "outputs": [
    {
     "name": "stdout",
     "output_type": "stream",
     "text": [
      "Previsão: [1]\n"
     ]
    }
   ],
   "source": [
    "# Teste 1\n",
    "Test = pd.DataFrame([[1, 2, 0, 3, 1, 3, 0, 3]], columns=[ 'espaçamento-das-lâminas', 'número-do-anel', 'população','superfície-do-caule-acima-do-anel', 'tipo-de-velo', 'cor-do-caule-abaixo-do-anel', 'cor-das-lâminas','forma-do-chapéu'])\n",
    "previsao = modelo.predict(Test)\n",
    "print(\"Previsão:\", previsao)"
   ]
  },
  {
   "cell_type": "markdown",
   "metadata": {},
   "source": [
    "#### **Testando classificação da categoria do cogumelo, se será (COMESTÍVEL = 1) ou (VENENOSO = 2)**\n",
    "\n",
    "### No modelo de teste inserimos os seguintes dados para análise:\n",
    "\n",
    "forma-do-caule - (0 = e) = alargando\n",
    "\n",
    "raiz-do-caule - (0 = b) = bulbosa\n",
    "\n",
    "odor - (5 = m) = mofado\n",
    "\n",
    "habitat - (4 = u) = urbano\n",
    "\n",
    "cor-do-chapéu - (4 = e) = verde\n",
    "\n",
    "forma-do-chapéu - (0 = b) = sino\n",
    "\n",
    "número-do-anel - (0 = n) = nenhum\n",
    "\n",
    "cor-do-velo - (3 = y) = amarelo"
   ]
  },
  {
   "cell_type": "code",
   "execution_count": 242,
   "metadata": {},
   "outputs": [
    {
     "name": "stdout",
     "output_type": "stream",
     "text": [
      "Previsão: [2]\n"
     ]
    }
   ],
   "source": [
    "# Teste 2\n",
    "Test = pd.DataFrame([[0, 0, 5, 4, 4, 0, 0, 3]], columns=['forma-do-caule', 'raiz-do-caule', 'odor','habitat', 'cor-do-chapéu', 'forma-do-chapéu', 'número-do-anel','cor-do-velo'])\n",
    "previsao = modelo.predict(Test)\n",
    "print(\"Previsão:\", previsao)"
   ]
  },
  {
   "cell_type": "markdown",
   "metadata": {},
   "source": [
    "### Preparação dos dados"
   ]
  },
  {
   "cell_type": "code",
   "execution_count": 245,
   "metadata": {},
   "outputs": [],
   "source": [
    "from sklearn.model_selection import GridSearchCV\n",
    "from sklearn.tree import DecisionTreeClassifier\n",
    "from sklearn.ensemble import RandomForestClassifier\n",
    "from sklearn.neighbors import KNeighborsClassifier\n",
    "from sklearn.linear_model import LogisticRegression\n",
    "from sklearn.svm import SVC\n",
    "from sklearn.neural_network import MLPClassifier"
   ]
  },
  {
   "cell_type": "code",
   "execution_count": 247,
   "metadata": {},
   "outputs": [
    {
     "data": {
      "text/plain": [
       "(8124, 8)"
      ]
     },
     "execution_count": 247,
     "metadata": {},
     "output_type": "execute_result"
    }
   ],
   "source": [
    "import numpy as np  # Importa a biblioteca numpy\n",
    "\n",
    "# Concatena os dados de 'entradas_treino' e 'entradas_teste' ao longo do eixo 0 (verticamente), formando um único array 'x_mushroom'\n",
    "x_mushroom = np.concatenate((entradas_treino, entradas_teste), axis=0)\n",
    "\n",
    "# Exibe as dimensões do array 'x_mushroom'\n",
    "x_mushroom.shape"
   ]
  },
  {
   "cell_type": "code",
   "execution_count": 249,
   "metadata": {},
   "outputs": [
    {
     "data": {
      "text/plain": [
       "array([[0, 0, 4, ..., 3, 1, 2],\n",
       "       [1, 6, 3, ..., 4, 1, 2],\n",
       "       [1, 6, 4, ..., 3, 1, 2],\n",
       "       ...,\n",
       "       [1, 6, 4, ..., 4, 1, 2],\n",
       "       [1, 0, 6, ..., 2, 1, 2],\n",
       "       [1, 3, 6, ..., 3, 1, 2]], dtype=int64)"
      ]
     },
     "execution_count": 249,
     "metadata": {},
     "output_type": "execute_result"
    }
   ],
   "source": [
    "x_mushroom"
   ]
  },
  {
   "cell_type": "code",
   "execution_count": 248,
   "metadata": {},
   "outputs": [
    {
     "data": {
      "text/plain": [
       "(8124,)"
      ]
     },
     "execution_count": 248,
     "metadata": {},
     "output_type": "execute_result"
    }
   ],
   "source": [
    "# Concatena os dados de 'categoria_treino' e 'categoria_teste' ao longo do eixo 0 (verticamente), formando um único array 'y_mushroom'\n",
    "y_mushroom = np.concatenate((categoria_treino, categoria_teste), axis=0)\n",
    "\n",
    "# Exibe as dimensões do array 'y_mushroom'\n",
    "y_mushroom.shape"
   ]
  },
  {
   "cell_type": "code",
   "execution_count": 250,
   "metadata": {},
   "outputs": [
    {
     "data": {
      "text/plain": [
       "array([2, 2, 2, ..., 2, 1, 1], dtype=int64)"
      ]
     },
     "execution_count": 250,
     "metadata": {},
     "output_type": "execute_result"
    }
   ],
   "source": [
    "y_mushroom"
   ]
  },
  {
   "cell_type": "markdown",
   "metadata": {},
   "source": [
    "### Árvore de Decisão"
   ]
  },
  {
   "cell_type": "code",
   "execution_count": 251,
   "metadata": {},
   "outputs": [],
   "source": [
    "parametros = {  # Dicionário contendo a grade de hiperparâmetros para busca\n",
    "    'criterion': ['gini', 'entropy'],  # Critério para medir a qualidade da divisão (Gini ou Entropy)\n",
    "    'splitter': ['best', 'random'],  # Estratégia para escolher a divisão em cada nó (Melhor ou Aleatória)\n",
    "    'min_samples_split': [2, 5, 10],  # Número mínimo de amostras necessárias para dividir um nó\n",
    "    'min_samples_leaf': [1, 5, 10]  # Número mínimo de amostras necessárias para estar em um nó folha\n",
    "}\n"
   ]
  },
  {
   "cell_type": "code",
   "execution_count": 252,
   "metadata": {},
   "outputs": [
    {
     "name": "stdout",
     "output_type": "stream",
     "text": [
      "{'criterion': 'gini', 'min_samples_leaf': 1, 'min_samples_split': 2, 'splitter': 'best'}\n",
      "1.0\n"
     ]
    }
   ],
   "source": [
    "grid_search = GridSearchCV(estimator=DecisionTreeClassifier(), param_grid=parametros)  # Cria o GridSearchCV com DecisionTreeClassifier como estimador e o dicionário 'parametros' como grade de hiperparâmetros\n",
    "grid_search.fit(x_mushroom, y_mushroom)  # Ajusta o grid_search aos dados de treinamento, buscando a melhor combinação de hiperparâmetros\n",
    "melhores_parametros = grid_search.best_params_  # Obtém os melhores hiperparâmetros encontrados pelo GridSearchCV\n",
    "melhor_resultado = grid_search.best_score_  # Obtém a melhor pontuação de desempenho alcançada durante a busca\n",
    "print(melhores_parametros)  # Imprime os melhores hiperparâmetros\n",
    "print(melhor_resultado)  # Imprime a melhor pontuação de desempenho (acurácia)"
   ]
  },
  {
   "cell_type": "markdown",
   "metadata": {},
   "source": [
    "### Random Forest"
   ]
  },
  {
   "cell_type": "code",
   "execution_count": 253,
   "metadata": {},
   "outputs": [],
   "source": [
    "parametros = {  # Define um dicionário chamado 'parametros' para armazenar as combinações de hiperparâmetros a serem testadas\n",
    "    'criterion': ['gini', 'entropy'],  # Define a métrica para medir a qualidade das divisões (gini ou entropy)\n",
    "    'n_estimators': [10, 40, 100, 150],  # Número de árvores na floresta do RandomForestClassifier\n",
    "    'min_samples_split': [2, 5, 10],  # Número mínimo de amostras necessárias para dividir um nó interno\n",
    "    'min_samples_leaf': [1, 5, 10]  # Número mínimo de amostras que um nó folha deve ter\n",
    "}\n"
   ]
  },
  {
   "cell_type": "code",
   "execution_count": 254,
   "metadata": {},
   "outputs": [
    {
     "name": "stdout",
     "output_type": "stream",
     "text": [
      "{'criterion': 'gini', 'min_samples_leaf': 1, 'min_samples_split': 2, 'n_estimators': 10}\n",
      "1.0\n"
     ]
    }
   ],
   "source": [
    "grid_search = GridSearchCV(estimator=RandomForestClassifier(), param_grid=parametros)  # Cria o GridSearchCV com RandomForestClassifier como estimador e o dicionário 'parametros' como grade de hiperparâmetros\n",
    "grid_search.fit(x_mushroom, y_mushroom)  # Ajusta o grid_search aos dados de treinamento, buscando a melhor combinação de hiperparâmetros\n",
    "melhores_parametros = grid_search.best_params_  # Obtém os melhores hiperparâmetros encontrados pelo GridSearchCV\n",
    "melhor_resultado = grid_search.best_score_  # Obtém a melhor pontuação de desempenho alcançada durante a busca\n",
    "print(melhores_parametros)  # Imprime os melhores hiperparâmetros\n",
    "print(melhor_resultado)  # Imprime a melhor pontuação de desempenho (acurácia)\n"
   ]
  },
  {
   "cell_type": "markdown",
   "metadata": {},
   "source": [
    "### KNN"
   ]
  },
  {
   "cell_type": "code",
   "execution_count": 255,
   "metadata": {},
   "outputs": [],
   "source": [
    "parametros = {  # Define um dicionário chamado 'parametros' para armazenar as combinações de hiperparâmetros a serem testadas\n",
    "    'n_neighbors': [3, 5, 10, 20],  # Número de vizinhos a serem usados pelo algoritmo K-Nearest Neighbors (KNN)\n",
    "    'p': [1, 2]  # Parâmetro da métrica de distância: 1 para Manhattan (L1), 2 para Euclidiana (L2)\n",
    "}"
   ]
  },
  {
   "cell_type": "code",
   "execution_count": 256,
   "metadata": {},
   "outputs": [
    {
     "name": "stdout",
     "output_type": "stream",
     "text": [
      "{'n_neighbors': 3, 'p': 1}\n",
      "0.9996307692307692\n"
     ]
    }
   ],
   "source": [
    "grid_search = GridSearchCV(estimator=KNeighborsClassifier(), param_grid=parametros)  # Cria o GridSearchCV com KNeighborsClassifier como estimador e o dicionário 'parametros' como grade de hiperparâmetros\n",
    "grid_search.fit(x_mushroom, y_mushroom)  # Ajusta o grid_search aos dados de treinamento, buscando a melhor combinação de hiperparâmetros\n",
    "melhores_parametros = grid_search.best_params_  # Obtém os melhores hiperparâmetros encontrados pelo GridSearchCV\n",
    "melhor_resultado = grid_search.best_score_  # Obtém a melhor pontuação de desempenho alcançada durante a busca\n",
    "print(melhores_parametros)  # Imprime os melhores hiperparâmetros\n",
    "print(melhor_resultado)  # Imprime a melhor pontuação de desempenho (acurácia)"
   ]
  },
  {
   "cell_type": "markdown",
   "metadata": {},
   "source": [
    "### Regressão Logística"
   ]
  },
  {
   "cell_type": "code",
   "execution_count": 257,
   "metadata": {},
   "outputs": [],
   "source": [
    "parametros = {  # Define um dicionário chamado 'parametros' para armazenar as combinações de hiperparâmetros a serem testadas\n",
    "    'tol': [0.0001, 0.00001, 0.000001],  # Tolerância para o critério de parada. Valores menores significam convergência mais precisa\n",
    "    'C': [1.0, 1.5, 2.0],  # Parâmetro de regularização. Valores menores especificam uma regularização mais forte\n",
    "    'solver': ['lbfgs', 'sag', 'saga']  # Algoritmo de otimização a ser usado na resolução do problema de ajuste do modelo\n",
    "}"
   ]
  },
  {
   "cell_type": "code",
   "execution_count": 258,
   "metadata": {},
   "outputs": [
    {
     "name": "stdout",
     "output_type": "stream",
     "text": [
      "{'C': 1.0, 'solver': 'lbfgs', 'tol': 0.0001}\n",
      "0.8764169003410383\n"
     ]
    }
   ],
   "source": [
    "grid_search = GridSearchCV(estimator=LogisticRegression(), param_grid=parametros)  # Cria o GridSearchCV com LogisticRegression como estimador e o dicionário 'parametros' como grade de hiperparâmetros\n",
    "grid_search.fit(x_mushroom, y_mushroom)  # Ajusta o grid_search aos dados de treinamento, buscando a melhor combinação de hiperparâmetros\n",
    "melhores_parametros = grid_search.best_params_  # Obtém os melhores hiperparâmetros encontrados pelo GridSearchCV\n",
    "melhor_resultado = grid_search.best_score_  # Obtém a melhor pontuação de desempenho alcançada durante a busca\n",
    "print(melhores_parametros)  # Imprime os melhores hiperparâmetros\n",
    "print(melhor_resultado)  # Imprime a melhor pontuação de desempenho (acurácia)"
   ]
  },
  {
   "cell_type": "markdown",
   "metadata": {},
   "source": [
    "### SVM"
   ]
  },
  {
   "cell_type": "code",
   "execution_count": 259,
   "metadata": {},
   "outputs": [],
   "source": [
    "parametros = {  # Define um dicionário chamado 'parametros' para armazenar as combinações de hiperparâmetros a serem testadas\n",
    "    'tol': [0.001, 0.0001, 0.00001],  # Tolerância para o critério de parada. Valores menores significam convergência mais precisa\n",
    "    'C': [1.0, 1.5, 2.0],  # Parâmetro de regularização. Valores menores especificam uma regularização mais forte\n",
    "    'kernel': ['rbf', 'linear', 'poly', 'sigmoid']  # Tipo de função kernel a ser usada pelo SVM\n",
    "}"
   ]
  },
  {
   "cell_type": "code",
   "execution_count": 260,
   "metadata": {},
   "outputs": [
    {
     "name": "stdout",
     "output_type": "stream",
     "text": [
      "{'C': 2.0, 'kernel': 'rbf', 'tol': 0.001}\n",
      "0.9954456991284577\n"
     ]
    }
   ],
   "source": [
    "grid_search = GridSearchCV(estimator=SVC(), param_grid=parametros)  # Cria o GridSearchCV com SVC como estimador e o dicionário 'parametros' como grade de hiperparâmetros\n",
    "grid_search.fit(x_mushroom, y_mushroom)  # Ajusta o grid_search aos dados de treinamento, buscando a melhor combinação de hiperparâmetros\n",
    "melhores_parametros = grid_search.best_params_  # Obtém os melhores hiperparâmetros encontrados pelo GridSearchCV\n",
    "melhor_resultado = grid_search.best_score_  # Obtém a melhor pontuação de desempenho alcançada durante a busca\n",
    "print(melhores_parametros)  # Imprime os melhores hiperparâmetros\n",
    "print(melhor_resultado)  # Imprime a melhor pontuação de desempenho (acurácia)"
   ]
  },
  {
   "cell_type": "markdown",
   "metadata": {},
   "source": [
    "### Redes Neurais"
   ]
  },
  {
   "cell_type": "code",
   "execution_count": 261,
   "metadata": {},
   "outputs": [],
   "source": [
    "parametros = {  # Define um dicionário chamado 'parametros' para armazenar as combinações de hiperparâmetros a serem testadas\n",
    "    'activation': ['relu', 'logistic', 'tanh'],  # Função de ativação a ser usada nas camadas ocultas ('relu', 'logistic', 'tanh')\n",
    "    'solver': ['adam', 'sgd'],  # Algoritmo para otimização do modelo ('adam', 'sgd')\n",
    "    'batch_size': [10, 56]  # Tamanho do lote para atualização dos gradientes\n",
    "}"
   ]
  },
  {
   "cell_type": "code",
   "execution_count": 262,
   "metadata": {},
   "outputs": [],
   "source": [
    "grid_search = GridSearchCV(estimator=MLPClassifier(), param_grid=parametros)  # Cria o GridSearchCV com MLPClassifier e a grade de hiperparâmetros\n",
    "grid_search.fit(x_mushroom, y_mushroom)  # Ajusta o grid_search aos dados de treinamento, realizando a busca exaustiva de hiperparâmetros\n",
    "melhores_parametros = grid_search.best_params_  # Obtém os melhores hiperparâmetros encontrados pelo GridSearchCV\n",
    "melhor_resultado = grid_search.best_score_  # Obtém a melhor pontuação de desempenho alcançada durante a busca"
   ]
  },
  {
   "cell_type": "code",
   "execution_count": 263,
   "metadata": {},
   "outputs": [
    {
     "name": "stdout",
     "output_type": "stream",
     "text": [
      "{'activation': 'tanh', 'batch_size': 56, 'solver': 'adam'}\n",
      "1.0\n"
     ]
    }
   ],
   "source": [
    "print(melhores_parametros)  # Imprime os melhores hiperparâmetros\n",
    "print(melhor_resultado)  # Imprime a melhor pontuação de desempenho (acurácia)"
   ]
  },
  {
   "cell_type": "markdown",
   "metadata": {},
   "source": [
    "### Validação Cruzada"
   ]
  },
  {
   "cell_type": "code",
   "execution_count": 265,
   "metadata": {},
   "outputs": [
    {
     "name": "stdout",
     "output_type": "stream",
     "text": [
      "0\n",
      "1\n",
      "2\n",
      "3\n",
      "4\n",
      "5\n",
      "6\n",
      "7\n",
      "8\n",
      "9\n",
      "10\n",
      "11\n",
      "12\n",
      "13\n",
      "14\n",
      "15\n",
      "16\n",
      "17\n",
      "18\n",
      "19\n",
      "20\n",
      "21\n",
      "22\n",
      "23\n",
      "24\n",
      "25\n",
      "26\n",
      "27\n",
      "28\n",
      "29\n"
     ]
    }
   ],
   "source": [
    "from sklearn.model_selection import cross_val_score, KFold\n",
    "\n",
    "# Inicialização de listas para armazenar os resultados das avaliações dos modelos\n",
    "resultados_arvore = []  # Lista para armazenar os resultados da Árvore de Decisão\n",
    "resultados_random_forest = []  # Lista para armazenar os resultados do Random Forest\n",
    "resultados_knn = []  # Lista para armazenar os resultados do KNN\n",
    "resultados_logistica = []  # Lista para armazenar os resultados da Regressão Logística\n",
    "resultados_svm = []  # Lista para armazenar os resultados do SVM\n",
    "resultados_rede_neural = []  # Lista para armazenar os resultados da Rede Neural\n",
    "\n",
    "# Loop para realizar a validação cruzada 30 vezes com diferentes seeds\n",
    "for i in range(30):\n",
    "    print(i)  # Imprime o número da iteração atual\n",
    "\n",
    "    # Criação do KFold com 10 divisões, embaralhando os dados e utilizando uma seed diferente a cada iteração\n",
    "    kfold = KFold(n_splits=10, shuffle=True, random_state=i)  # Cria uma instância do KFold para a validação cruzada\n",
    "\n",
    "    # Avaliação da Árvore de Decisão\n",
    "    arvore = DecisionTreeClassifier(criterion='entropy', min_samples_leaf=1, min_samples_split=5, splitter='best')  # Define o modelo de Árvore de Decisão com hiperparâmetros especificados\n",
    "    scores = cross_val_score(arvore, x_mushroom, y_mushroom, cv=kfold)  # Executa a validação cruzada e armazena as acurácias\n",
    "    resultados_arvore.append(scores.mean())  # Calcula e armazena a média das acurácias\n",
    "\n",
    "    # Avaliação do Random Forest\n",
    "    random_forest = RandomForestClassifier(criterion='entropy', min_samples_leaf=1, min_samples_split=5, n_estimators=10)  # Define o modelo Random Forest com hiperparâmetros especificados\n",
    "    scores = cross_val_score(random_forest, x_mushroom, y_mushroom, cv=kfold)  # Executa a validação cruzada e armazena as acurácias\n",
    "    resultados_random_forest.append(scores.mean())  # Calcula e armazena a média das acurácias\n",
    "\n",
    "    # Avaliação do KNN\n",
    "    knn = KNeighborsClassifier()  # Define o modelo KNN com parâmetros padrão\n",
    "    scores = cross_val_score(knn, x_mushroom, y_mushroom, cv=kfold)  # Executa a validação cruzada e armazena as acurácias\n",
    "    resultados_knn.append(scores.mean())  # Calcula e armazena a média das acurácias\n",
    "\n",
    "    # Avaliação da Regressão Logística\n",
    "    logistica = LogisticRegression(C=1.0, solver='lbfgs', tol=0.0001)  # Define o modelo de Regressão Logística com hiperparâmetros especificados\n",
    "    scores = cross_val_score(logistica, x_mushroom, y_mushroom, cv=kfold)  # Executa a validação cruzada e armazena as acurácias\n",
    "    resultados_logistica.append(scores.mean())  # Calcula e armazena a média das acurácias\n",
    "\n",
    "    # Avaliação do SVM\n",
    "    svm = SVC(kernel='rbf', C=2.0)  # Define o modelo SVM com hiperparâmetros especificados\n",
    "    scores = cross_val_score(svm, x_mushroom, y_mushroom, cv=kfold)  # Executa a validação cruzada e armazena as acurácias\n",
    "    resultados_svm.append(scores.mean())  # Calcula e armazena a média das acurácias\n",
    "\n",
    "    # Avaliação da Rede Neural\n",
    "    rede_neural = MLPClassifier(activation='relu', batch_size=56, solver='adam')  # Define o modelo de Rede Neural com hiperparâmetros especificados\n",
    "    scores = cross_val_score(rede_\n",
    "                             neural, x_mushroom, y_mushroom, cv=kfold)  # Executa a validação cruzada e armazena as acurácias\n",
    "    resultados_rede_neural.append(scores.mean())  # Calcula e armazena a média das acurácias\n"
   ]
  },
  {
   "cell_type": "code",
   "execution_count": 266,
   "metadata": {},
   "outputs": [
    {
     "data": {
      "text/html": [
       "<div>\n",
       "<style scoped>\n",
       "    .dataframe tbody tr th:only-of-type {\n",
       "        vertical-align: middle;\n",
       "    }\n",
       "\n",
       "    .dataframe tbody tr th {\n",
       "        vertical-align: top;\n",
       "    }\n",
       "\n",
       "    .dataframe thead th {\n",
       "        text-align: right;\n",
       "    }\n",
       "</style>\n",
       "<table border=\"1\" class=\"dataframe\">\n",
       "  <thead>\n",
       "    <tr style=\"text-align: right;\">\n",
       "      <th></th>\n",
       "      <th>Arvore</th>\n",
       "      <th>Random forest</th>\n",
       "      <th>KNN</th>\n",
       "      <th>Logistica</th>\n",
       "      <th>SVM</th>\n",
       "      <th>Rede neural</th>\n",
       "    </tr>\n",
       "  </thead>\n",
       "  <tbody>\n",
       "    <tr>\n",
       "      <th>0</th>\n",
       "      <td>1.0</td>\n",
       "      <td>1.000000</td>\n",
       "      <td>0.999754</td>\n",
       "      <td>0.876415</td>\n",
       "      <td>0.996307</td>\n",
       "      <td>1.000000</td>\n",
       "    </tr>\n",
       "    <tr>\n",
       "      <th>1</th>\n",
       "      <td>1.0</td>\n",
       "      <td>1.000000</td>\n",
       "      <td>0.999507</td>\n",
       "      <td>0.876418</td>\n",
       "      <td>0.996061</td>\n",
       "      <td>1.000000</td>\n",
       "    </tr>\n",
       "    <tr>\n",
       "      <th>2</th>\n",
       "      <td>1.0</td>\n",
       "      <td>1.000000</td>\n",
       "      <td>0.999754</td>\n",
       "      <td>0.876416</td>\n",
       "      <td>0.995692</td>\n",
       "      <td>1.000000</td>\n",
       "    </tr>\n",
       "    <tr>\n",
       "      <th>3</th>\n",
       "      <td>1.0</td>\n",
       "      <td>1.000000</td>\n",
       "      <td>0.999754</td>\n",
       "      <td>0.876418</td>\n",
       "      <td>0.995692</td>\n",
       "      <td>1.000000</td>\n",
       "    </tr>\n",
       "    <tr>\n",
       "      <th>4</th>\n",
       "      <td>1.0</td>\n",
       "      <td>1.000000</td>\n",
       "      <td>0.999385</td>\n",
       "      <td>0.876417</td>\n",
       "      <td>0.995815</td>\n",
       "      <td>1.000000</td>\n",
       "    </tr>\n",
       "    <tr>\n",
       "      <th>5</th>\n",
       "      <td>1.0</td>\n",
       "      <td>1.000000</td>\n",
       "      <td>0.999754</td>\n",
       "      <td>0.876414</td>\n",
       "      <td>0.996061</td>\n",
       "      <td>1.000000</td>\n",
       "    </tr>\n",
       "    <tr>\n",
       "      <th>6</th>\n",
       "      <td>1.0</td>\n",
       "      <td>1.000000</td>\n",
       "      <td>0.999754</td>\n",
       "      <td>0.876416</td>\n",
       "      <td>0.995938</td>\n",
       "      <td>1.000000</td>\n",
       "    </tr>\n",
       "    <tr>\n",
       "      <th>7</th>\n",
       "      <td>1.0</td>\n",
       "      <td>1.000000</td>\n",
       "      <td>0.999754</td>\n",
       "      <td>0.876418</td>\n",
       "      <td>0.995815</td>\n",
       "      <td>1.000000</td>\n",
       "    </tr>\n",
       "    <tr>\n",
       "      <th>8</th>\n",
       "      <td>1.0</td>\n",
       "      <td>1.000000</td>\n",
       "      <td>0.999754</td>\n",
       "      <td>0.876419</td>\n",
       "      <td>0.995938</td>\n",
       "      <td>0.999754</td>\n",
       "    </tr>\n",
       "    <tr>\n",
       "      <th>9</th>\n",
       "      <td>1.0</td>\n",
       "      <td>1.000000</td>\n",
       "      <td>0.999754</td>\n",
       "      <td>0.876419</td>\n",
       "      <td>0.995570</td>\n",
       "      <td>1.000000</td>\n",
       "    </tr>\n",
       "    <tr>\n",
       "      <th>10</th>\n",
       "      <td>1.0</td>\n",
       "      <td>1.000000</td>\n",
       "      <td>0.999754</td>\n",
       "      <td>0.876417</td>\n",
       "      <td>0.996184</td>\n",
       "      <td>1.000000</td>\n",
       "    </tr>\n",
       "    <tr>\n",
       "      <th>11</th>\n",
       "      <td>1.0</td>\n",
       "      <td>1.000000</td>\n",
       "      <td>0.999754</td>\n",
       "      <td>0.876417</td>\n",
       "      <td>0.995323</td>\n",
       "      <td>0.999139</td>\n",
       "    </tr>\n",
       "    <tr>\n",
       "      <th>12</th>\n",
       "      <td>1.0</td>\n",
       "      <td>1.000000</td>\n",
       "      <td>0.999754</td>\n",
       "      <td>0.876415</td>\n",
       "      <td>0.996184</td>\n",
       "      <td>1.000000</td>\n",
       "    </tr>\n",
       "    <tr>\n",
       "      <th>13</th>\n",
       "      <td>1.0</td>\n",
       "      <td>1.000000</td>\n",
       "      <td>0.999754</td>\n",
       "      <td>0.876413</td>\n",
       "      <td>0.996061</td>\n",
       "      <td>0.999754</td>\n",
       "    </tr>\n",
       "    <tr>\n",
       "      <th>14</th>\n",
       "      <td>1.0</td>\n",
       "      <td>1.000000</td>\n",
       "      <td>0.999262</td>\n",
       "      <td>0.876418</td>\n",
       "      <td>0.996184</td>\n",
       "      <td>1.000000</td>\n",
       "    </tr>\n",
       "    <tr>\n",
       "      <th>15</th>\n",
       "      <td>1.0</td>\n",
       "      <td>1.000000</td>\n",
       "      <td>0.999754</td>\n",
       "      <td>0.876418</td>\n",
       "      <td>0.995692</td>\n",
       "      <td>1.000000</td>\n",
       "    </tr>\n",
       "    <tr>\n",
       "      <th>16</th>\n",
       "      <td>1.0</td>\n",
       "      <td>1.000000</td>\n",
       "      <td>0.999754</td>\n",
       "      <td>0.876414</td>\n",
       "      <td>0.995937</td>\n",
       "      <td>0.999754</td>\n",
       "    </tr>\n",
       "    <tr>\n",
       "      <th>17</th>\n",
       "      <td>1.0</td>\n",
       "      <td>1.000000</td>\n",
       "      <td>0.999754</td>\n",
       "      <td>0.876415</td>\n",
       "      <td>0.996307</td>\n",
       "      <td>1.000000</td>\n",
       "    </tr>\n",
       "    <tr>\n",
       "      <th>18</th>\n",
       "      <td>1.0</td>\n",
       "      <td>1.000000</td>\n",
       "      <td>0.999754</td>\n",
       "      <td>0.876418</td>\n",
       "      <td>0.995692</td>\n",
       "      <td>0.999384</td>\n",
       "    </tr>\n",
       "    <tr>\n",
       "      <th>19</th>\n",
       "      <td>1.0</td>\n",
       "      <td>1.000000</td>\n",
       "      <td>0.999754</td>\n",
       "      <td>0.876416</td>\n",
       "      <td>0.995816</td>\n",
       "      <td>0.999877</td>\n",
       "    </tr>\n",
       "    <tr>\n",
       "      <th>20</th>\n",
       "      <td>1.0</td>\n",
       "      <td>1.000000</td>\n",
       "      <td>0.999754</td>\n",
       "      <td>0.876416</td>\n",
       "      <td>0.995569</td>\n",
       "      <td>0.999877</td>\n",
       "    </tr>\n",
       "    <tr>\n",
       "      <th>21</th>\n",
       "      <td>1.0</td>\n",
       "      <td>1.000000</td>\n",
       "      <td>0.999754</td>\n",
       "      <td>0.876413</td>\n",
       "      <td>0.996062</td>\n",
       "      <td>1.000000</td>\n",
       "    </tr>\n",
       "    <tr>\n",
       "      <th>22</th>\n",
       "      <td>1.0</td>\n",
       "      <td>1.000000</td>\n",
       "      <td>0.999754</td>\n",
       "      <td>0.876417</td>\n",
       "      <td>0.995814</td>\n",
       "      <td>1.000000</td>\n",
       "    </tr>\n",
       "    <tr>\n",
       "      <th>23</th>\n",
       "      <td>1.0</td>\n",
       "      <td>1.000000</td>\n",
       "      <td>0.999754</td>\n",
       "      <td>0.876412</td>\n",
       "      <td>0.995938</td>\n",
       "      <td>1.000000</td>\n",
       "    </tr>\n",
       "    <tr>\n",
       "      <th>24</th>\n",
       "      <td>1.0</td>\n",
       "      <td>1.000000</td>\n",
       "      <td>0.999385</td>\n",
       "      <td>0.876418</td>\n",
       "      <td>0.996184</td>\n",
       "      <td>1.000000</td>\n",
       "    </tr>\n",
       "    <tr>\n",
       "      <th>25</th>\n",
       "      <td>1.0</td>\n",
       "      <td>1.000000</td>\n",
       "      <td>0.999754</td>\n",
       "      <td>0.876413</td>\n",
       "      <td>0.996184</td>\n",
       "      <td>1.000000</td>\n",
       "    </tr>\n",
       "    <tr>\n",
       "      <th>26</th>\n",
       "      <td>1.0</td>\n",
       "      <td>1.000000</td>\n",
       "      <td>0.999262</td>\n",
       "      <td>0.876413</td>\n",
       "      <td>0.995569</td>\n",
       "      <td>0.999754</td>\n",
       "    </tr>\n",
       "    <tr>\n",
       "      <th>27</th>\n",
       "      <td>1.0</td>\n",
       "      <td>1.000000</td>\n",
       "      <td>0.999754</td>\n",
       "      <td>0.876418</td>\n",
       "      <td>0.996307</td>\n",
       "      <td>0.999877</td>\n",
       "    </tr>\n",
       "    <tr>\n",
       "      <th>28</th>\n",
       "      <td>1.0</td>\n",
       "      <td>1.000000</td>\n",
       "      <td>0.999508</td>\n",
       "      <td>0.876416</td>\n",
       "      <td>0.996431</td>\n",
       "      <td>0.999877</td>\n",
       "    </tr>\n",
       "    <tr>\n",
       "      <th>29</th>\n",
       "      <td>1.0</td>\n",
       "      <td>0.999754</td>\n",
       "      <td>0.999754</td>\n",
       "      <td>0.876416</td>\n",
       "      <td>0.995938</td>\n",
       "      <td>1.000000</td>\n",
       "    </tr>\n",
       "  </tbody>\n",
       "</table>\n",
       "</div>"
      ],
      "text/plain": [
       "    Arvore  Random forest       KNN  Logistica       SVM  Rede neural\n",
       "0      1.0       1.000000  0.999754   0.876415  0.996307     1.000000\n",
       "1      1.0       1.000000  0.999507   0.876418  0.996061     1.000000\n",
       "2      1.0       1.000000  0.999754   0.876416  0.995692     1.000000\n",
       "3      1.0       1.000000  0.999754   0.876418  0.995692     1.000000\n",
       "4      1.0       1.000000  0.999385   0.876417  0.995815     1.000000\n",
       "5      1.0       1.000000  0.999754   0.876414  0.996061     1.000000\n",
       "6      1.0       1.000000  0.999754   0.876416  0.995938     1.000000\n",
       "7      1.0       1.000000  0.999754   0.876418  0.995815     1.000000\n",
       "8      1.0       1.000000  0.999754   0.876419  0.995938     0.999754\n",
       "9      1.0       1.000000  0.999754   0.876419  0.995570     1.000000\n",
       "10     1.0       1.000000  0.999754   0.876417  0.996184     1.000000\n",
       "11     1.0       1.000000  0.999754   0.876417  0.995323     0.999139\n",
       "12     1.0       1.000000  0.999754   0.876415  0.996184     1.000000\n",
       "13     1.0       1.000000  0.999754   0.876413  0.996061     0.999754\n",
       "14     1.0       1.000000  0.999262   0.876418  0.996184     1.000000\n",
       "15     1.0       1.000000  0.999754   0.876418  0.995692     1.000000\n",
       "16     1.0       1.000000  0.999754   0.876414  0.995937     0.999754\n",
       "17     1.0       1.000000  0.999754   0.876415  0.996307     1.000000\n",
       "18     1.0       1.000000  0.999754   0.876418  0.995692     0.999384\n",
       "19     1.0       1.000000  0.999754   0.876416  0.995816     0.999877\n",
       "20     1.0       1.000000  0.999754   0.876416  0.995569     0.999877\n",
       "21     1.0       1.000000  0.999754   0.876413  0.996062     1.000000\n",
       "22     1.0       1.000000  0.999754   0.876417  0.995814     1.000000\n",
       "23     1.0       1.000000  0.999754   0.876412  0.995938     1.000000\n",
       "24     1.0       1.000000  0.999385   0.876418  0.996184     1.000000\n",
       "25     1.0       1.000000  0.999754   0.876413  0.996184     1.000000\n",
       "26     1.0       1.000000  0.999262   0.876413  0.995569     0.999754\n",
       "27     1.0       1.000000  0.999754   0.876418  0.996307     0.999877\n",
       "28     1.0       1.000000  0.999508   0.876416  0.996431     0.999877\n",
       "29     1.0       0.999754  0.999754   0.876416  0.995938     1.000000"
      ]
     },
     "execution_count": 266,
     "metadata": {},
     "output_type": "execute_result"
    }
   ],
   "source": [
    "import pandas as pd  # Importa a biblioteca pandas, que é utilizada para manipulação de dados em formato de tabelas\n",
    "''\n",
    "# Criação de um DataFrame com os resultados das validações cruzadas\n",
    "resultados = pd.DataFrame({\n",
    "    'Arvore': resultados_arvore,  # Coluna com os resultados da Árvore de Decisão\n",
    "    'Random forest': resultados_random_forest,  # Coluna com os resultados do Random Forest\n",
    "    'KNN': resultados_knn,  # Coluna com os resultados do KNN\n",
    "    'Logistica': resultados_logistica,  # Coluna com os resultados da Regressão Logística\n",
    "    'SVM': resultados_svm,  # Coluna com os resultados do SVM\n",
    "    'Rede neural': resultados_rede_neural  # Coluna com os resultados da Rede Neural\n",
    "})\n",
    "\n",
    "# Exibição do DataFrame contendo os resultados\n",
    "resultados  # Exibe o DataFrame na saída, mostrando a média das acurácias para cada modelo em cada iteração"
   ]
  },
  {
   "cell_type": "code",
   "execution_count": 267,
   "metadata": {},
   "outputs": [
    {
     "data": {
      "text/html": [
       "<div>\n",
       "<style scoped>\n",
       "    .dataframe tbody tr th:only-of-type {\n",
       "        vertical-align: middle;\n",
       "    }\n",
       "\n",
       "    .dataframe tbody tr th {\n",
       "        vertical-align: top;\n",
       "    }\n",
       "\n",
       "    .dataframe thead th {\n",
       "        text-align: right;\n",
       "    }\n",
       "</style>\n",
       "<table border=\"1\" class=\"dataframe\">\n",
       "  <thead>\n",
       "    <tr style=\"text-align: right;\">\n",
       "      <th></th>\n",
       "      <th>Arvore</th>\n",
       "      <th>Random forest</th>\n",
       "      <th>KNN</th>\n",
       "      <th>Logistica</th>\n",
       "      <th>SVM</th>\n",
       "      <th>Rede neural</th>\n",
       "    </tr>\n",
       "  </thead>\n",
       "  <tbody>\n",
       "    <tr>\n",
       "      <th>count</th>\n",
       "      <td>30.0</td>\n",
       "      <td>30.000000</td>\n",
       "      <td>30.000000</td>\n",
       "      <td>30.000000</td>\n",
       "      <td>30.000000</td>\n",
       "      <td>30.000000</td>\n",
       "    </tr>\n",
       "    <tr>\n",
       "      <th>mean</th>\n",
       "      <td>1.0</td>\n",
       "      <td>0.999992</td>\n",
       "      <td>0.999680</td>\n",
       "      <td>0.876416</td>\n",
       "      <td>0.995942</td>\n",
       "      <td>0.999902</td>\n",
       "    </tr>\n",
       "    <tr>\n",
       "      <th>std</th>\n",
       "      <td>0.0</td>\n",
       "      <td>0.000045</td>\n",
       "      <td>0.000157</td>\n",
       "      <td>0.000002</td>\n",
       "      <td>0.000269</td>\n",
       "      <td>0.000198</td>\n",
       "    </tr>\n",
       "    <tr>\n",
       "      <th>min</th>\n",
       "      <td>1.0</td>\n",
       "      <td>0.999754</td>\n",
       "      <td>0.999262</td>\n",
       "      <td>0.876412</td>\n",
       "      <td>0.995323</td>\n",
       "      <td>0.999139</td>\n",
       "    </tr>\n",
       "    <tr>\n",
       "      <th>25%</th>\n",
       "      <td>1.0</td>\n",
       "      <td>1.000000</td>\n",
       "      <td>0.999754</td>\n",
       "      <td>0.876415</td>\n",
       "      <td>0.995723</td>\n",
       "      <td>0.999877</td>\n",
       "    </tr>\n",
       "    <tr>\n",
       "      <th>50%</th>\n",
       "      <td>1.0</td>\n",
       "      <td>1.000000</td>\n",
       "      <td>0.999754</td>\n",
       "      <td>0.876416</td>\n",
       "      <td>0.995938</td>\n",
       "      <td>1.000000</td>\n",
       "    </tr>\n",
       "    <tr>\n",
       "      <th>75%</th>\n",
       "      <td>1.0</td>\n",
       "      <td>1.000000</td>\n",
       "      <td>0.999754</td>\n",
       "      <td>0.876418</td>\n",
       "      <td>0.996184</td>\n",
       "      <td>1.000000</td>\n",
       "    </tr>\n",
       "    <tr>\n",
       "      <th>max</th>\n",
       "      <td>1.0</td>\n",
       "      <td>1.000000</td>\n",
       "      <td>0.999754</td>\n",
       "      <td>0.876419</td>\n",
       "      <td>0.996431</td>\n",
       "      <td>1.000000</td>\n",
       "    </tr>\n",
       "  </tbody>\n",
       "</table>\n",
       "</div>"
      ],
      "text/plain": [
       "       Arvore  Random forest        KNN  Logistica        SVM  Rede neural\n",
       "count    30.0      30.000000  30.000000  30.000000  30.000000    30.000000\n",
       "mean      1.0       0.999992   0.999680   0.876416   0.995942     0.999902\n",
       "std       0.0       0.000045   0.000157   0.000002   0.000269     0.000198\n",
       "min       1.0       0.999754   0.999262   0.876412   0.995323     0.999139\n",
       "25%       1.0       1.000000   0.999754   0.876415   0.995723     0.999877\n",
       "50%       1.0       1.000000   0.999754   0.876416   0.995938     1.000000\n",
       "75%       1.0       1.000000   0.999754   0.876418   0.996184     1.000000\n",
       "max       1.0       1.000000   0.999754   0.876419   0.996431     1.000000"
      ]
     },
     "execution_count": 267,
     "metadata": {},
     "output_type": "execute_result"
    }
   ],
   "source": [
    "resultados.describe()"
   ]
  },
  {
   "cell_type": "code",
   "execution_count": 268,
   "metadata": {},
   "outputs": [
    {
     "data": {
      "text/plain": [
       "Arvore           0.000000e+00\n",
       "Random forest    2.022212e-09\n",
       "KNN              2.464122e-08\n",
       "Logistica        4.177358e-12\n",
       "SVM              7.256610e-08\n",
       "Rede neural      3.906020e-08\n",
       "dtype: float64"
      ]
     },
     "execution_count": 268,
     "metadata": {},
     "output_type": "execute_result"
    }
   ],
   "source": [
    "# Calcula e exibe a variância dos resultados das validações cruzadas para cada modelo\n",
    "# Baixa variância indica desempenho consistente e previsível do modelo, com variações mínimas nas acurácias entre as iterações.\n",
    "# Alta variância sugere sensibilidade a pequenas mudanças nos dados ou hiperparâmetros, levando a um desempenho menos estável e mais variável durante as iterações da validação cruzada.\n",
    "resultados.var()"
   ]
  },
  {
   "cell_type": "code",
   "execution_count": 269,
   "metadata": {},
   "outputs": [
    {
     "data": {
      "text/plain": [
       "Arvore           0.000000\n",
       "Random forest    0.004497\n",
       "KNN              0.015703\n",
       "Logistica        0.000233\n",
       "SVM              0.027048\n",
       "Rede neural      0.019766\n",
       "dtype: float64"
      ]
     },
     "execution_count": 269,
     "metadata": {},
     "output_type": "execute_result"
    }
   ],
   "source": [
    "# Calcula e exibe o Coeficiente de Variação (CV) dos resultados das validações cruzadas para cada modelo, em percentual\n",
    "(resultados.std() / resultados.mean()) * 100"
   ]
  }
 ],
 "metadata": {
  "kernelspec": {
   "display_name": "base",
   "language": "python",
   "name": "python3"
  },
  "language_info": {
   "codemirror_mode": {
    "name": "ipython",
    "version": 3
   },
   "file_extension": ".py",
   "mimetype": "text/x-python",
   "name": "python",
   "nbconvert_exporter": "python",
   "pygments_lexer": "ipython3",
   "version": "3.9.13"
  }
 },
 "nbformat": 4,
 "nbformat_minor": 2
}
